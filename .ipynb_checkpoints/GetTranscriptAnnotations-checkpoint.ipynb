{
 "cells": [
  {
   "cell_type": "code",
   "execution_count": 4,
   "metadata": {
    "collapsed": true
   },
   "outputs": [],
   "source": [
    "import pandas as pd\n",
    "import os\n",
    "%matplotlib inline"
   ]
  },
  {
   "cell_type": "code",
   "execution_count": 5,
   "metadata": {
    "collapsed": false
   },
   "outputs": [
    {
     "name": "stdout",
     "output_type": "stream",
     "text": [
      "/home/ljcohen/osmotic\r\n"
     ]
    }
   ],
   "source": [
    "!pwd"
   ]
  },
  {
   "cell_type": "code",
   "execution_count": 9,
   "metadata": {
    "collapsed": true
   },
   "outputs": [],
   "source": [
    "gff = \"kfish2rae5g.main.pub.gff\"\n",
    "annotation_file = \"kfish2rae5g.annotation.transcript.name.id\""
   ]
  },
  {
   "cell_type": "code",
   "execution_count": 17,
   "metadata": {
    "collapsed": false
   },
   "outputs": [
    {
     "name": "stdout",
     "output_type": "stream",
     "text": [
      "['##gff-version', '3']\n",
      "['#data:', 'Killifish', 'gene', 'set,', 'version', 'an5g,', '2013', 'December']\n",
      "['#species:', 'Fundulus', 'heteroclitus', '(Killifish)']\n",
      "['#program:', 'EvidentialGene,', 'http://eugenes.org/EvidentialGene/']\n",
      "['#version:', '2013.12.20']\n",
      "['#author:', 'd.', 'g.', 'gilbert,', 'gilbertd', 'at', 'indiana', 'edu']\n",
      "[]\n",
      "File written kfish2rae5g.annotation.transcript.name.id\n"
     ]
    }
   ],
   "source": [
    "with open(gff,\"rU\") as gff_file:\n",
    "    with open(annotation_file,\"w\") as annotation:\n",
    "        lines=6\n",
    "        count=0\n",
    "        while count<=lines:\n",
    "            headerline=next(gff_file).split()\n",
    "            print headerline\n",
    "            count+=1\n",
    "        for line in gff_file:\n",
    "            line_info = line.split()\n",
    "            matching = [s for s in line_info if \"mRNA\" in s]\n",
    "            if len(matching) !=0:\n",
    "                gene_info = line_info[8].split(\";\")\n",
    "                for item in gene_info:\n",
    "                    if item.startswith(\"ID=\"):\n",
    "                        transcript = item.split(\"=\")[1]\n",
    "                        annotation.write(transcript+\"\\t\")\n",
    "                    if item.startswith(\"Name=\"):\n",
    "                        gene = item.split(\"=\")[1]\n",
    "                        annotation.write(gene+\"\\n\")\n",
    "            else:\n",
    "                continue\n",
    "print \"File written\",annotation_file\n",
    "                        "
   ]
  },
  {
   "cell_type": "code",
   "execution_count": 18,
   "metadata": {
    "collapsed": false
   },
   "outputs": [
    {
     "name": "stdout",
     "output_type": "stream",
     "text": [
      "Funhe2EKm000003t1\tHomeobox\r\n",
      "Funhe2EKm000004t1\tPlatelet-derived\r\n",
      "Funhe2EKm000005t1\tVascular\r\n",
      "Funhe2EKm000221t1\tComponent\r\n",
      "Funhe2EKm000221t1\tComponent\r\n",
      "Funhe2EKm000006t1\tHMG\r\n",
      "Funhe2EKm000191t1\tTetraspanin-17\r\n",
      "Funhe2EKm000191t1\tTetraspanin-17\r\n",
      "Funhe2EKm000007t1\tSolute\r\n",
      "Funhe2EKm000008t1\tKinesin\r\n"
     ]
    }
   ],
   "source": [
    "!head kfish2rae5g.annotation.transcript.name.id"
   ]
  },
  {
   "cell_type": "code",
   "execution_count": null,
   "metadata": {
    "collapsed": true
   },
   "outputs": [],
   "source": []
  }
 ],
 "metadata": {
  "kernelspec": {
   "display_name": "Python 2",
   "language": "python",
   "name": "python2"
  },
  "language_info": {
   "codemirror_mode": {
    "name": "ipython",
    "version": 2
   },
   "file_extension": ".py",
   "mimetype": "text/x-python",
   "name": "python",
   "nbconvert_exporter": "python",
   "pygments_lexer": "ipython2",
   "version": "2.7.11"
  }
 },
 "nbformat": 4,
 "nbformat_minor": 0
}

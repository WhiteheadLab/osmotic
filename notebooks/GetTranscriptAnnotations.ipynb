{
 "cells": [
  {
   "cell_type": "code",
   "execution_count": 6,
   "metadata": {
    "collapsed": true
   },
   "outputs": [],
   "source": [
    "import pandas as pd\n",
    "import os\n",
    "%matplotlib inline"
   ]
  },
  {
   "cell_type": "code",
   "execution_count": 7,
   "metadata": {
    "collapsed": false
   },
   "outputs": [
    {
     "name": "stdout",
     "output_type": "stream",
     "text": [
      "/Users/cohenl06/Documents/UCDavis/osmotic\r\n"
     ]
    }
   ],
   "source": [
    "!pwd"
   ]
  },
  {
   "cell_type": "code",
   "execution_count": 8,
   "metadata": {
    "collapsed": true
   },
   "outputs": [],
   "source": [
    "gff = \"kfish2rae5g.main.pub.gff\"\n",
    "annotation_file = \"kfish2rae5g.annotation.transcript.name.id\""
   ]
  },
  {
   "cell_type": "code",
   "execution_count": 21,
   "metadata": {
    "collapsed": false
   },
   "outputs": [
    {
     "name": "stdout",
     "output_type": "stream",
     "text": [
      "['##gff-version', '3']\n",
      "['#data:', 'Killifish', 'gene', 'set,', 'version', 'an5g,', '2013', 'December']\n",
      "['#species:', 'Fundulus', 'heteroclitus', '(Killifish)']\n",
      "['#program:', 'EvidentialGene,', 'http://eugenes.org/EvidentialGene/']\n",
      "['#version:', '2013.12.20']\n",
      "['#author:', 'd.', 'g.', 'gilbert,', 'gilbertd', 'at', 'indiana', 'edu']\n",
      "[]\n",
      "File written kfish2rae5g.annotation.transcript.name.id\n"
     ]
    }
   ],
   "source": [
    "with open(gff,\"rU\") as gff_file:\n",
    "    with open(annotation_file,\"w\") as annotation:\n",
    "        lines=6\n",
    "        count=0\n",
    "        while count<=lines:\n",
    "            headerline=next(gff_file).split()\n",
    "            print headerline\n",
    "            count+=1\n",
    "        for line in gff_file:\n",
    "            line_info = line.split(\";\")\n",
    "            matching = [s for s in line_info if \"mRNA\" in s]\n",
    "            if len(matching) !=0:\n",
    "                for item in line_info:\n",
    "                    if item.startswith(\"Scaffold\"):\n",
    "                        transcript_info = item.split(\"\\t\")\n",
    "                        for info in transcript_info:\n",
    "                            if info.startswith(\"ID\"):\n",
    "                                transcript = info.split(\"=\")[1]\n",
    "                                annotation.write(transcript+\"\\t\")\n",
    "                    if item.startswith(\"Name=\"):\n",
    "                        gene = item.split(\"=\")[1]          \n",
    "                        annotation.write(gene+\"\\n\")\n",
    "            else:\n",
    "                continue\n",
    "print \"File written\",annotation_file\n",
    "                        "
   ]
  },
  {
   "cell_type": "code",
   "execution_count": 22,
   "metadata": {
    "collapsed": false
   },
   "outputs": [
    {
     "name": "stdout",
     "output_type": "stream",
     "text": [
      "Funhe2EKm000003t1\tHomeobox protein CDX-1 (91%P)\r\n",
      "Funhe2EKm000004t1\tPlatelet-derived growth factor receptor, beta polypeptide (100%P)\r\n",
      "Funhe2EKm000005t1\tVascular endothelial growth factor receptor kdr (100%P)\r\n",
      "Funhe2EKm000221t1\tComponent of oligomeric golgi complex (90%P)\r\n",
      "Funhe2EKm000221t1\tComponent of oligomeric golgi complex (90%P)\r\n",
      "Funhe2EKm000006t1\tHMG box domain containing (100%P)\r\n",
      "Funhe2EKm000191t1\tTetraspanin-17 (100%P)\r\n",
      "Funhe2EKm000191t1\tTetraspanin-17 (100%P)\r\n",
      "Funhe2EKm000007t1\tSolute carrier family 35, member A4 (100%P)\r\n",
      "Funhe2EKm000008t1\tKinesin protein KIF17 (100%M)\r\n"
     ]
    }
   ],
   "source": [
    "!head kfish2rae5g.annotation.transcript.name.id"
   ]
  },
  {
   "cell_type": "code",
   "execution_count": null,
   "metadata": {
    "collapsed": true
   },
   "outputs": [],
   "source": []
  }
 ],
 "metadata": {
  "kernelspec": {
   "display_name": "Python [Root]",
   "language": "python",
   "name": "Python [Root]"
  },
  "language_info": {
   "codemirror_mode": {
    "name": "ipython",
    "version": 2
   },
   "file_extension": ".py",
   "mimetype": "text/x-python",
   "name": "python",
   "nbconvert_exporter": "python",
   "pygments_lexer": "ipython2",
   "version": "2.7.12"
  }
 },
 "nbformat": 4,
 "nbformat_minor": 0
}

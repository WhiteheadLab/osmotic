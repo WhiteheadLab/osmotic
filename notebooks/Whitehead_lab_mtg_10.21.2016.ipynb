{
 "cells": [
  {
   "cell_type": "markdown",
   "metadata": {},
   "source": [
    "https://nbviewer.jupyter.org/format/slides/github/ljcohen/osmotic/blob/master/notebooks/Whitehead_lab_mtg_10.21.2016.ipynb#/"
   ]
  },
  {
   "cell_type": "code",
   "execution_count": 8,
   "metadata": {
    "collapsed": true,
    "nbpresent": {
     "id": "813e184b-7026-4422-8fe3-64d506d18b62"
    }
   },
   "outputs": [],
   "source": [
    "import numpy as np\n",
    "import pandas as pd\n",
    "import seaborn as sns\n",
    "import matplotlib.pyplot as plt\n",
    "%matplotlib inline"
   ]
  },
  {
   "cell_type": "markdown",
   "metadata": {
    "nbpresent": {
     "id": "34ee4984-5bbe-47ad-98e0-48e8cfafa68f"
    },
    "slideshow": {
     "slide_type": "slide"
    }
   },
   "source": [
    "# Comparative gene expression profiling associated with adaptation to osmotic stress tolerance\n",
    "\n",
    "## ... a status update\n",
    "\n",
    "Lisa Cohen\n",
    "\n",
    "Whitehead lab meeting\n",
    "\n",
    "10.21.2016"
   ]
  },
  {
   "cell_type": "markdown",
   "metadata": {
    "nbpresent": {
     "id": "dfd00b87-cae9-40b2-9886-1fca1c332e44"
    },
    "slideshow": {
     "slide_type": "slide"
    }
   },
   "source": [
    "# Background:\n",
    "\n",
    "* RNA is the key intermediate between the genome and proteome\n",
    "* Many benefits of mRNA sequencing\n",
    "* NO such thing as an optimal pipeline/workflow for gene expression analysis, especially with \"nonmodel\" species\n",
    "* Best practices, e.g. Conesa et al. 2016\n",
    "* Eel pond protocol: https://khmer-protocols.readthedocs.io/en/ctb/mrnaseq/\n",
    "\n",
    "# Conclusion: \n",
    "\n",
    "Runing software == EASY \n",
    "\n",
    "Interpretation, e.g. whether or not output is trustworthy == HARD"
   ]
  },
  {
   "cell_type": "markdown",
   "metadata": {
    "nbpresent": {
     "id": "3cafdef9-39d2-43ec-8001-13271fd0bf47"
    },
    "slideshow": {
     "slide_type": "slide"
    }
   },
   "source": [
    "# Nonmodel RNAseq Workflow\n",
    "\n",
    "1. Raw reads - YAY!\n",
    "\n",
    "(commence plugging into the matrix of the commandline)\n",
    "\n",
    "2. QC, e.g. fastqc, trim adapters\n",
    "3. Diginorm: https://dib-lab.github.io/zen-khmer/intro.html\n",
    "4. De novo transcriptome assembly\n",
    "5. Annotate\n",
    "6. Differential gene expression\n",
    "7. Evaluate results, make sense?\n",
    "8. If not, repeat steps above\n"
   ]
  },
  {
   "cell_type": "markdown",
   "metadata": {
    "nbpresent": {
     "id": "b3031d16-1374-46ed-a34b-1c3b054e8cf8"
    },
    "slideshow": {
     "slide_type": "slide"
    }
   },
   "source": [
    "# De novo assembly pipeline methods development\n",
    "\n",
    "* Titus Brown's lab for \"Data Intensive Biology\"\n",
    "* De novo transcriptome re-assemblies of RNAseq data from Marine Microbial Eukaryotic Transcriptome Sequencing Project (MMETSP)\n",
    "* 678 samples, 40 divergent phyla = 1 TB raw data (largest publicly available RNAseq dataset from diversity of species)\n",
    "* transcriptome assemblies = 21 GB \n",
    "* finished, automated pipeline methods development took 1 yr\n",
    "* Quantitative evaluation of transcriptome qualities\n",
    "* \"How did my transcriptome do?\", e.g. 80th percentile in terms of ___ (fill in the blank metric)\n",
    "\n",
    "https://github.com/ljcohen/MMETSP/blob/master/notebooks/reads_correlations.ipynb"
   ]
  },
  {
   "cell_type": "markdown",
   "metadata": {
    "nbpresent": {
     "id": "a2539fa3-e9e2-47df-9589-bd0239f8c08d"
    },
    "slideshow": {
     "slide_type": "slide"
    }
   },
   "source": [
    "# Osmotic tolerance in killifish\n",
    "\n",
    "* Awesome experimental design (draw on board) \n",
    "* RNAseq, 3 lanes data\n",
    "* Mapping to _F heteroclitus_ genome vs. _de novo_ assemblies?\n",
    "\n",
    "<img src=\"img/Whitehead_2010_Fig4.png\" width=\"600\">"
   ]
  },
  {
   "cell_type": "markdown",
   "metadata": {
    "nbpresent": {
     "id": "52f52e7a-9025-4258-bce0-e9fd162df56b"
    },
    "slideshow": {
     "slide_type": "slide"
    }
   },
   "source": [
    "# Workflow status\n",
    "\n",
    "* QC\n",
    "* Diginorm\n",
    "* De novo transcriptomes\n",
    "* Annotation, 2 different ways: \n",
    "    1.) _F heteroclius_ genome alignment\n",
    "    2.) dammit (homology-based)\n",
    "* gene expression counts with salmon using annotation #1\n",
    "* Differential expression analysis with DESeq per species (not what we want)\n",
    "* phylogenetic comparative approach (Whitehead and Crawford 2006)"
   ]
  },
  {
   "cell_type": "code",
   "execution_count": 49,
   "metadata": {
    "collapsed": false,
    "nbpresent": {
     "id": "03c7d7d2-72c4-40f5-8a80-da609b278a48"
    },
    "slideshow": {
     "slide_type": "slide"
    }
   },
   "outputs": [],
   "source": [
    "data_table = pd.read_table(\"../evaluation_data/trim_reads_data.txt\",sep=\"\\t\")\n",
    "genus_species = data_table.groupby([\"Genus_species\"])"
   ]
  },
  {
   "cell_type": "code",
   "execution_count": 50,
   "metadata": {
    "collapsed": false,
    "nbpresent": {
     "id": "593ffca6-e31d-4655-86ae-c38b8e9346e8"
    },
    "slideshow": {
     "slide_type": "fragment"
    }
   },
   "outputs": [
    {
     "data": {
      "text/plain": [
       "Genus_species\n",
       "A_xenica               9\n",
       "F_catanatus            7\n",
       "F_chrysotus            8\n",
       "F_diaphanus            7\n",
       "F_grandis              9\n",
       "F_heteroclitus.MDPL    9\n",
       "F_heteroclitus.MDPP    9\n",
       "F_notatus              9\n",
       "F_notti                2\n",
       "F_olivaceous           8\n",
       "F_parvapinis           8\n",
       "F_rathbuni             9\n",
       "F_sciadicus            5\n",
       "F_similis              9\n",
       "F_zebrinus             4\n",
       "L_goodei               9\n",
       "L_parva                9\n",
       "Name: Genus_species, dtype: int64"
      ]
     },
     "execution_count": 50,
     "metadata": {},
     "output_type": "execute_result"
    }
   ],
   "source": [
    "genus_species['Genus_species'].count()"
   ]
  },
  {
   "cell_type": "code",
   "execution_count": 65,
   "metadata": {
    "collapsed": false,
    "nbpresent": {
     "id": "3a028f73-6f30-48e0-92bd-14369ad4a5f6"
    },
    "slideshow": {
     "slide_type": "slide"
    }
   },
   "outputs": [
    {
     "data": {
      "text/plain": [
       "Genus_species\n",
       "A_xenica               125785857\n",
       "F_catanatus            165105977\n",
       "F_chrysotus            129963482\n",
       "F_diaphanus            100265388\n",
       "F_grandis              234670168\n",
       "F_heteroclitus.MDPL    160537906\n",
       "F_heteroclitus.MDPP    138535385\n",
       "F_notatus              175537383\n",
       "F_notti                 23348494\n",
       "F_olivaceous           101434157\n",
       "F_parvapinis            92590817\n",
       "F_rathbuni             175121439\n",
       "F_sciadicus             60660884\n",
       "F_similis              104114099\n",
       "F_zebrinus              49374145\n",
       "L_goodei               110021826\n",
       "L_parva                127960850\n",
       "Name: Input Reads, dtype: int64"
      ]
     },
     "execution_count": 65,
     "metadata": {},
     "output_type": "execute_result"
    }
   ],
   "source": [
    "#input_reads = genus_species['Input Reads'].aggregate(np.sum)\n",
    "#plot_input_reads=sns.barplot(y=\"Genus_species\",x=\"Input Reads\",data=data_table,palette=\"BuGn_d\")\n",
    "#sns.set_style(\"white\")\n",
    "#sns.despine()\n",
    "genus_species['Input Reads'].aggregate(np.sum)"
   ]
  },
  {
   "cell_type": "code",
   "execution_count": 12,
   "metadata": {
    "collapsed": false,
    "nbpresent": {
     "id": "d3db2ae0-b731-4e40-bc4a-f92487670677"
    },
    "scrolled": true,
    "slideshow": {
     "slide_type": "slide"
    }
   },
   "outputs": [
    {
     "data": {
      "text/plain": [
       "Genus_species\n",
       "A_xenica               124896387\n",
       "F_catanatus            163773269\n",
       "F_chrysotus            128930681\n",
       "F_diaphanus             99585589\n",
       "F_grandis              232934560\n",
       "F_heteroclitus.MDPL    159472226\n",
       "F_heteroclitus.MDPP    137479701\n",
       "F_notatus              174240506\n",
       "F_notti                 23128243\n",
       "F_olivaceous           100744146\n",
       "F_parvapinis            91731205\n",
       "F_rathbuni             173730062\n",
       "F_sciadicus             60168096\n",
       "F_similis              103381764\n",
       "F_zebrinus              48979988\n",
       "L_goodei               109203206\n",
       "L_parva                127294467\n",
       "Name: Surviving Reads, dtype: int64"
      ]
     },
     "execution_count": 12,
     "metadata": {},
     "output_type": "execute_result"
    }
   ],
   "source": [
    "genus_species['Surviving Reads'].aggregate(np.sum)"
   ]
  },
  {
   "cell_type": "code",
   "execution_count": 74,
   "metadata": {
    "collapsed": false,
    "nbpresent": {
     "id": "e8ff63ce-b7c0-4281-b3ef-be8768961f97"
    },
    "slideshow": {
     "slide_type": "slide"
    }
   },
   "outputs": [
    {
     "data": {
      "text/html": [
       "<div>\n",
       "<table border=\"1\" class=\"dataframe\">\n",
       "  <thead>\n",
       "    <tr style=\"text-align: right;\">\n",
       "      <th></th>\n",
       "      <th>species</th>\n",
       "      <th>Diginorm_bysample</th>\n",
       "      <th>Reads_Input</th>\n",
       "      <th>Diginorm_byspecies</th>\n",
       "      <th>Unique kmers</th>\n",
       "      <th>Percent_surviving</th>\n",
       "    </tr>\n",
       "  </thead>\n",
       "  <tbody>\n",
       "    <tr>\n",
       "      <th>0</th>\n",
       "      <td>F_sciadicus</td>\n",
       "      <td>61759566</td>\n",
       "      <td>101937160</td>\n",
       "      <td>37932302</td>\n",
       "      <td>929778741</td>\n",
       "      <td>37.2</td>\n",
       "    </tr>\n",
       "    <tr>\n",
       "      <th>1</th>\n",
       "      <td>F_chrysotus</td>\n",
       "      <td>120615027</td>\n",
       "      <td>258850289</td>\n",
       "      <td>66146703</td>\n",
       "      <td>1434123391</td>\n",
       "      <td>25.6</td>\n",
       "    </tr>\n",
       "    <tr>\n",
       "      <th>2</th>\n",
       "      <td>F_diaphanus</td>\n",
       "      <td>101068831</td>\n",
       "      <td>137246213</td>\n",
       "      <td>46692192</td>\n",
       "      <td>1046979112</td>\n",
       "      <td>34.0</td>\n",
       "    </tr>\n",
       "    <tr>\n",
       "      <th>3</th>\n",
       "      <td>F_notti</td>\n",
       "      <td>25174771</td>\n",
       "      <td>46463472</td>\n",
       "      <td>21860955</td>\n",
       "      <td>493595457</td>\n",
       "      <td>47.0</td>\n",
       "    </tr>\n",
       "    <tr>\n",
       "      <th>4</th>\n",
       "      <td>F_similis</td>\n",
       "      <td>104168148</td>\n",
       "      <td>207444577</td>\n",
       "      <td>63352801</td>\n",
       "      <td>1420704983</td>\n",
       "      <td>30.5</td>\n",
       "    </tr>\n",
       "    <tr>\n",
       "      <th>5</th>\n",
       "      <td>F_parvapinis</td>\n",
       "      <td>82583659</td>\n",
       "      <td>184254591</td>\n",
       "      <td>50597794</td>\n",
       "      <td>1231605484</td>\n",
       "      <td>27.5</td>\n",
       "    </tr>\n",
       "    <tr>\n",
       "      <th>6</th>\n",
       "      <td>A_xenica</td>\n",
       "      <td>121262927</td>\n",
       "      <td>250627759</td>\n",
       "      <td>62070035</td>\n",
       "      <td>1366099384</td>\n",
       "      <td>24.8</td>\n",
       "    </tr>\n",
       "    <tr>\n",
       "      <th>7</th>\n",
       "      <td>F_heteroclitus.MDPL</td>\n",
       "      <td>269884267</td>\n",
       "      <td>319925008</td>\n",
       "      <td>79472815</td>\n",
       "      <td>1570605946</td>\n",
       "      <td>24.8</td>\n",
       "    </tr>\n",
       "    <tr>\n",
       "      <th>8</th>\n",
       "      <td>F_heteroclitus.MDPP</td>\n",
       "      <td>269884267</td>\n",
       "      <td>275951932</td>\n",
       "      <td>77784067</td>\n",
       "      <td>1593032868</td>\n",
       "      <td>28.2</td>\n",
       "    </tr>\n",
       "    <tr>\n",
       "      <th>9</th>\n",
       "      <td>F_rathbuni</td>\n",
       "      <td>151546112</td>\n",
       "      <td>348759075</td>\n",
       "      <td>79184398</td>\n",
       "      <td>1603165556</td>\n",
       "      <td>22.7</td>\n",
       "    </tr>\n",
       "    <tr>\n",
       "      <th>10</th>\n",
       "      <td>F_olivaceous</td>\n",
       "      <td>102382986</td>\n",
       "      <td>202133952</td>\n",
       "      <td>56164901</td>\n",
       "      <td>1283222161</td>\n",
       "      <td>27.8</td>\n",
       "    </tr>\n",
       "    <tr>\n",
       "      <th>11</th>\n",
       "      <td>L_goodei</td>\n",
       "      <td>108050557</td>\n",
       "      <td>219175639</td>\n",
       "      <td>61476480</td>\n",
       "      <td>1391181944</td>\n",
       "      <td>28.0</td>\n",
       "    </tr>\n",
       "    <tr>\n",
       "      <th>12</th>\n",
       "      <td>F_catanatus</td>\n",
       "      <td>122233879</td>\n",
       "      <td>328807408</td>\n",
       "      <td>71067870</td>\n",
       "      <td>1508176669</td>\n",
       "      <td>21.6</td>\n",
       "    </tr>\n",
       "    <tr>\n",
       "      <th>13</th>\n",
       "      <td>F_notatus</td>\n",
       "      <td>144700429</td>\n",
       "      <td>349630701</td>\n",
       "      <td>75563103</td>\n",
       "      <td>1545405076</td>\n",
       "      <td>21.6</td>\n",
       "    </tr>\n",
       "    <tr>\n",
       "      <th>14</th>\n",
       "      <td>L_parva</td>\n",
       "      <td>120553380</td>\n",
       "      <td>255219214</td>\n",
       "      <td>63705405</td>\n",
       "      <td>1367885577</td>\n",
       "      <td>25.0</td>\n",
       "    </tr>\n",
       "    <tr>\n",
       "      <th>15</th>\n",
       "      <td>F_grandis</td>\n",
       "      <td>171376365</td>\n",
       "      <td>467432867</td>\n",
       "      <td>108411122</td>\n",
       "      <td>1867426837</td>\n",
       "      <td>23.2</td>\n",
       "    </tr>\n",
       "    <tr>\n",
       "      <th>16</th>\n",
       "      <td>F_zebrinus</td>\n",
       "      <td>48900308</td>\n",
       "      <td>98327251</td>\n",
       "      <td>35987974</td>\n",
       "      <td>842367207</td>\n",
       "      <td>36.6</td>\n",
       "    </tr>\n",
       "  </tbody>\n",
       "</table>\n",
       "</div>"
      ],
      "text/plain": [
       "                species  Diginorm_bysample  Reads_Input  Diginorm_byspecies  \\\n",
       "0           F_sciadicus           61759566    101937160            37932302   \n",
       "1           F_chrysotus          120615027    258850289            66146703   \n",
       "2           F_diaphanus          101068831    137246213            46692192   \n",
       "3               F_notti           25174771     46463472            21860955   \n",
       "4             F_similis          104168148    207444577            63352801   \n",
       "5          F_parvapinis           82583659    184254591            50597794   \n",
       "6              A_xenica          121262927    250627759            62070035   \n",
       "7   F_heteroclitus.MDPL          269884267    319925008            79472815   \n",
       "8   F_heteroclitus.MDPP          269884267    275951932            77784067   \n",
       "9            F_rathbuni          151546112    348759075            79184398   \n",
       "10         F_olivaceous          102382986    202133952            56164901   \n",
       "11             L_goodei          108050557    219175639            61476480   \n",
       "12          F_catanatus          122233879    328807408            71067870   \n",
       "13            F_notatus          144700429    349630701            75563103   \n",
       "14              L_parva          120553380    255219214            63705405   \n",
       "15            F_grandis          171376365    467432867           108411122   \n",
       "16           F_zebrinus           48900308     98327251            35987974   \n",
       "\n",
       "    Unique kmers  Percent_surviving  \n",
       "0      929778741               37.2  \n",
       "1     1434123391               25.6  \n",
       "2     1046979112               34.0  \n",
       "3      493595457               47.0  \n",
       "4     1420704983               30.5  \n",
       "5     1231605484               27.5  \n",
       "6     1366099384               24.8  \n",
       "7     1570605946               24.8  \n",
       "8     1593032868               28.2  \n",
       "9     1603165556               22.7  \n",
       "10    1283222161               27.8  \n",
       "11    1391181944               28.0  \n",
       "12    1508176669               21.6  \n",
       "13    1545405076               21.6  \n",
       "14    1367885577               25.0  \n",
       "15    1867426837               23.2  \n",
       "16     842367207               36.6  "
      ]
     },
     "execution_count": 74,
     "metadata": {},
     "output_type": "execute_result"
    }
   ],
   "source": [
    "diginorm_table = pd.read_table(\"../evaluation_data/diginorm_stats.txt\",sep=\"\\t\")\n",
    "diginorm_table"
   ]
  },
  {
   "cell_type": "code",
   "execution_count": 93,
   "metadata": {
    "collapsed": false,
    "nbpresent": {
     "id": "96eed851-9742-43de-b07d-374484720f9f"
    },
    "slideshow": {
     "slide_type": "slide"
    }
   },
   "outputs": [
    {
     "data": {
      "image/png": "[encoded data removed]",
      "text/plain": [
       "<matplotlib.figure.Figure at 0x1288e8b38>"
      ]
     },
     "metadata": {},
     "output_type": "display_data"
    }
   ],
   "source": [
    "diginorm_reads=sns.barplot(y='species',x='Percent_surviving',data=diginorm_table,palette=\"RdBu_r\",estimator=sum)\n",
    "sns.set_style(\"white\")\n",
    "sns.despine()"
   ]
  },
  {
   "cell_type": "code",
   "execution_count": 70,
   "metadata": {
    "collapsed": false,
    "nbpresent": {
     "id": "c05fdae8-bcdf-41a8-9140-6be28b4a0a6c"
    },
    "slideshow": {
     "slide_type": "slide"
    }
   },
   "outputs": [
    {
     "data": {
      "text/html": [
       "<div>\n",
       "<table border=\"1\" class=\"dataframe\">\n",
       "  <thead>\n",
       "    <tr style=\"text-align: right;\">\n",
       "      <th></th>\n",
       "      <th>species</th>\n",
       "      <th>assembly</th>\n",
       "      <th>CRBB_hits</th>\n",
       "      <th>at_skew</th>\n",
       "      <th>bases_n</th>\n",
       "      <th>cov25</th>\n",
       "      <th>cov50</th>\n",
       "      <th>cov75</th>\n",
       "      <th>cov85</th>\n",
       "      <th>cov95</th>\n",
       "      <th>...</th>\n",
       "      <th>p_cov50</th>\n",
       "      <th>p_cov75</th>\n",
       "      <th>p_cov85</th>\n",
       "      <th>p_cov95</th>\n",
       "      <th>p_refs_with_CRBB</th>\n",
       "      <th>proportion_n</th>\n",
       "      <th>rbh_per_reference</th>\n",
       "      <th>reference_coverage</th>\n",
       "      <th>score</th>\n",
       "      <th>smallest</th>\n",
       "    </tr>\n",
       "  </thead>\n",
       "  <tbody>\n",
       "    <tr>\n",
       "      <th>0</th>\n",
       "      <td>F_sciadicus</td>\n",
       "      <td>/home/ljcohen/msu_assemblies_finished/F_sciadi...</td>\n",
       "      <td>130350</td>\n",
       "      <td>0.00741</td>\n",
       "      <td>0</td>\n",
       "      <td>16892</td>\n",
       "      <td>11481</td>\n",
       "      <td>6942</td>\n",
       "      <td>5218</td>\n",
       "      <td>3350</td>\n",
       "      <td>...</td>\n",
       "      <td>0.10434</td>\n",
       "      <td>0.06309</td>\n",
       "      <td>0.04742</td>\n",
       "      <td>0.03045</td>\n",
       "      <td>0.40657</td>\n",
       "      <td>0</td>\n",
       "      <td>1.18467</td>\n",
       "      <td>0.12068</td>\n",
       "      <td>NaN</td>\n",
       "      <td>224</td>\n",
       "    </tr>\n",
       "    <tr>\n",
       "      <th>1</th>\n",
       "      <td>F_chrysotus</td>\n",
       "      <td>/home/ljcohen/msu_assemblies_finished/F_chryso...</td>\n",
       "      <td>138437</td>\n",
       "      <td>0.00566</td>\n",
       "      <td>0</td>\n",
       "      <td>17907</td>\n",
       "      <td>12667</td>\n",
       "      <td>7852</td>\n",
       "      <td>5915</td>\n",
       "      <td>3918</td>\n",
       "      <td>...</td>\n",
       "      <td>0.11512</td>\n",
       "      <td>0.07136</td>\n",
       "      <td>0.05376</td>\n",
       "      <td>0.03561</td>\n",
       "      <td>0.42360</td>\n",
       "      <td>0</td>\n",
       "      <td>1.25816</td>\n",
       "      <td>0.13059</td>\n",
       "      <td>NaN</td>\n",
       "      <td>224</td>\n",
       "    </tr>\n",
       "    <tr>\n",
       "      <th>2</th>\n",
       "      <td>F_diaphanus</td>\n",
       "      <td>/home/ljcohen/msu_assemblies_finished/F_diapha...</td>\n",
       "      <td>185108</td>\n",
       "      <td>0.00715</td>\n",
       "      <td>0</td>\n",
       "      <td>19844</td>\n",
       "      <td>12971</td>\n",
       "      <td>7689</td>\n",
       "      <td>5886</td>\n",
       "      <td>3901</td>\n",
       "      <td>...</td>\n",
       "      <td>0.11788</td>\n",
       "      <td>0.06988</td>\n",
       "      <td>0.05349</td>\n",
       "      <td>0.03545</td>\n",
       "      <td>0.48774</td>\n",
       "      <td>0</td>\n",
       "      <td>1.68233</td>\n",
       "      <td>0.13775</td>\n",
       "      <td>NaN</td>\n",
       "      <td>224</td>\n",
       "    </tr>\n",
       "    <tr>\n",
       "      <th>3</th>\n",
       "      <td>F_notti</td>\n",
       "      <td>/home/ljcohen/msu_assemblies_finished/F_notti/...</td>\n",
       "      <td>49312</td>\n",
       "      <td>0.00603</td>\n",
       "      <td>0</td>\n",
       "      <td>9205</td>\n",
       "      <td>6114</td>\n",
       "      <td>3656</td>\n",
       "      <td>2694</td>\n",
       "      <td>1758</td>\n",
       "      <td>...</td>\n",
       "      <td>0.05557</td>\n",
       "      <td>0.03323</td>\n",
       "      <td>0.02448</td>\n",
       "      <td>0.01598</td>\n",
       "      <td>0.22949</td>\n",
       "      <td>0</td>\n",
       "      <td>0.44816</td>\n",
       "      <td>0.06534</td>\n",
       "      <td>NaN</td>\n",
       "      <td>224</td>\n",
       "    </tr>\n",
       "    <tr>\n",
       "      <th>4</th>\n",
       "      <td>F_similis</td>\n",
       "      <td>/home/ljcohen/msu_assemblies_finished/F_simili...</td>\n",
       "      <td>140898</td>\n",
       "      <td>0.00627</td>\n",
       "      <td>0</td>\n",
       "      <td>16828</td>\n",
       "      <td>11257</td>\n",
       "      <td>6826</td>\n",
       "      <td>5081</td>\n",
       "      <td>3286</td>\n",
       "      <td>...</td>\n",
       "      <td>0.10231</td>\n",
       "      <td>0.06204</td>\n",
       "      <td>0.04618</td>\n",
       "      <td>0.02986</td>\n",
       "      <td>0.42877</td>\n",
       "      <td>0</td>\n",
       "      <td>1.28053</td>\n",
       "      <td>0.12048</td>\n",
       "      <td>NaN</td>\n",
       "      <td>224</td>\n",
       "    </tr>\n",
       "  </tbody>\n",
       "</table>\n",
       "<p>5 rows × 44 columns</p>\n",
       "</div>"
      ],
      "text/plain": [
       "       species                                           assembly  CRBB_hits  \\\n",
       "0  F_sciadicus  /home/ljcohen/msu_assemblies_finished/F_sciadi...     130350   \n",
       "1  F_chrysotus  /home/ljcohen/msu_assemblies_finished/F_chryso...     138437   \n",
       "2  F_diaphanus  /home/ljcohen/msu_assemblies_finished/F_diapha...     185108   \n",
       "3      F_notti  /home/ljcohen/msu_assemblies_finished/F_notti/...      49312   \n",
       "4    F_similis  /home/ljcohen/msu_assemblies_finished/F_simili...     140898   \n",
       "\n",
       "   at_skew  bases_n  cov25  cov50  cov75  cov85  cov95    ...     p_cov50  \\\n",
       "0  0.00741        0  16892  11481   6942   5218   3350    ...     0.10434   \n",
       "1  0.00566        0  17907  12667   7852   5915   3918    ...     0.11512   \n",
       "2  0.00715        0  19844  12971   7689   5886   3901    ...     0.11788   \n",
       "3  0.00603        0   9205   6114   3656   2694   1758    ...     0.05557   \n",
       "4  0.00627        0  16828  11257   6826   5081   3286    ...     0.10231   \n",
       "\n",
       "   p_cov75  p_cov85  p_cov95  p_refs_with_CRBB  proportion_n  \\\n",
       "0  0.06309  0.04742  0.03045           0.40657             0   \n",
       "1  0.07136  0.05376  0.03561           0.42360             0   \n",
       "2  0.06988  0.05349  0.03545           0.48774             0   \n",
       "3  0.03323  0.02448  0.01598           0.22949             0   \n",
       "4  0.06204  0.04618  0.02986           0.42877             0   \n",
       "\n",
       "   rbh_per_reference  reference_coverage  score  smallest  \n",
       "0            1.18467             0.12068    NaN       224  \n",
       "1            1.25816             0.13059    NaN       224  \n",
       "2            1.68233             0.13775    NaN       224  \n",
       "3            0.44816             0.06534    NaN       224  \n",
       "4            1.28053             0.12048    NaN       224  \n",
       "\n",
       "[5 rows x 44 columns]"
      ]
     },
     "execution_count": 70,
     "metadata": {},
     "output_type": "execute_result"
    }
   ],
   "source": [
    "# reference_used = \"/home/ljcohen/reference/kf2evg367mixx11/kfish2evg367mixx11pub2.mrna\"\n",
    "transrate_data = pd.read_csv(\"../evaluation_data/osmotic_killifish_transrate_data.csv\")\n",
    "transrate_data.head()"
   ]
  },
  {
   "cell_type": "code",
   "execution_count": 26,
   "metadata": {
    "collapsed": false,
    "nbpresent": {
     "id": "e02c6d74-719c-45ee-be51-3041655b665c"
    },
    "slideshow": {
     "slide_type": "slide"
    }
   },
   "outputs": [
    {
     "data": {
      "image/png": "[encoded data removed]",
      "text/plain": [
       "<matplotlib.figure.Figure at 0x11973df60>"
      ]
     },
     "metadata": {},
     "output_type": "display_data"
    }
   ],
   "source": [
    "p_refs_CRBB=sns.barplot(y='species',x='p_refs_with_CRBB',data=transrate_data,palette=\"BuGn_d\")\n",
    "sns.set_style(\"white\")\n",
    "sns.despine()"
   ]
  },
  {
   "cell_type": "code",
   "execution_count": 96,
   "metadata": {
    "collapsed": false,
    "nbpresent": {
     "id": "895cdfcd-691b-4528-bf69-8b6d26289a3a"
    },
    "slideshow": {
     "slide_type": "slide"
    }
   },
   "outputs": [
    {
     "data": {
      "image/png": "[encoded data removed]",
      "text/plain": [
       "<matplotlib.figure.Figure at 0x1268cf5f8>"
      ]
     },
     "metadata": {},
     "output_type": "display_data"
    }
   ],
   "source": [
    "busco_scores = pd.read_csv(\"../evaluation_data/busco_scores.csv\")\n",
    "#busco_scores\n",
    "p_refs_CRBB=sns.barplot(y='species',x='Complete_BUSCO_perc',data=busco_scores,palette=\"Set3\")\n",
    "sns.set_style(\"white\")\n",
    "sns.despine()"
   ]
  },
  {
   "cell_type": "markdown",
   "metadata": {
    "nbpresent": {
     "id": "9e978c4e-7fa1-45f8-a6e4-ccfda7e352c9"
    },
    "slideshow": {
     "slide_type": "slide"
    }
   },
   "source": [
    "# weird counts (1 sample)\n",
    "<img src=\"img/image_ordered_sample1.png\">"
   ]
  },
  {
   "cell_type": "markdown",
   "metadata": {
    "nbpresent": {
     "id": "804cca9f-c0b5-481f-8632-aeae80c25e36"
    },
    "slideshow": {
     "slide_type": "slide"
    }
   },
   "source": [
    "# Bad PCA\n",
    "<img src=\"img/PCA.png\">"
   ]
  },
  {
   "cell_type": "markdown",
   "metadata": {
    "nbpresent": {
     "id": "ee2d00fa-ab29-44cd-80d4-61396fd1e50c"
    },
    "slideshow": {
     "slide_type": "slide"
    }
   },
   "source": [
    "# Worse heatmap\n",
    "<img src=\"img/heatmap_separate.png\">"
   ]
  },
  {
   "cell_type": "markdown",
   "metadata": {
    "nbpresent": {
     "id": "a384d452-f349-4b6c-82d3-c0a1ce495db9"
    },
    "slideshow": {
     "slide_type": "slide"
    }
   },
   "source": [
    "# Transcriptome alignment to reference\n",
    "* too many contigs\n",
    "* (BWA also probably not the best way to get a transcriptome alignment)\n",
    "<img src=\"img/igv_killifish.png\">"
   ]
  },
  {
   "cell_type": "markdown",
   "metadata": {
    "nbpresent": {
     "id": "c0dab827-00b1-4fd5-be6c-d78ac7b29fe2"
    },
    "slideshow": {
     "slide_type": "slide"
    }
   },
   "source": [
    "# To-do\n",
    "* Re-do everything: \n",
    "- assemblies\n",
    "- annotations, \n",
    "- salmon quants,\n",
    "- differential expression analysis\n",
    "* compare dammit annotations to reference-based annotations\n",
    "* If still a ton of contigs, RapClust contigs\n",
    "\n",
    "# Future\n",
    "- pathway discovery, unsupervised neural network\n",
    "- compare with branch site testing"
   ]
  }
 ],
 "metadata": {
  "anaconda-cloud": {},
  "celltoolbar": "Slideshow",
  "kernelspec": {
   "display_name": "Python 2",
   "language": "python",
   "name": "python2"
  },
  "language_info": {
   "codemirror_mode": {
    "name": "ipython",
    "version": 2
   },
   "file_extension": ".py",
   "mimetype": "text/x-python",
   "name": "python",
   "nbconvert_exporter": "python",
   "pygments_lexer": "ipython2",
   "version": "2.7.12"
  },
  "nbpresent": {
   "slides": {
    "15584da2-4698-4413-a40a-726b2cb7e573": {
     "id": "15584da2-4698-4413-a40a-726b2cb7e573",
     "prev": "9c8327ea-68ac-4a85-b48d-9668b6eaf91d",
     "regions": {
      "6d664784-6b2b-4589-af36-7e5d43ba723e": {
       "attrs": {
        "height": 0.40228245363766046,
        "width": 0.36849144079885876,
        "x": -0.03209700427960057,
        "y": 0.1355206847360913
       },
       "content": {
        "cell": "b3031d16-1374-46ed-a34b-1c3b054e8cf8",
        "part": "source"
       },
       "id": "6d664784-6b2b-4589-af36-7e5d43ba723e"
      }
     }
    },
    "1b648abc-0cce-477b-a27f-f9f11562962c": {
     "id": "1b648abc-0cce-477b-a27f-f9f11562962c",
     "prev": "a63b4e93-8be0-4184-b1d5-54406b4c0d5f",
     "regions": {
      "c912f12c-a65c-457e-93d9-ac9e04644f9b": {
       "attrs": {
        "height": 1,
        "width": 1,
        "x": 0,
        "y": 0
       },
       "content": null,
       "id": "c912f12c-a65c-457e-93d9-ac9e04644f9b"
      }
     }
    },
    "5d765f5e-50cd-4f75-aeba-ce28dbf150a3": {
     "id": "5d765f5e-50cd-4f75-aeba-ce28dbf150a3",
     "prev": "af23e0fb-1bfd-4533-8d75-455b38ebd01a",
     "regions": {
      "755fdb58-5269-40cb-8ab5-e96c03cfa025": {
       "attrs": {
        "height": 1,
        "width": 1,
        "x": 0,
        "y": 0
       },
       "content": {
        "cell": "d3db2ae0-b731-4e40-bc4a-f92487670677",
        "part": "outputs"
       },
       "id": "755fdb58-5269-40cb-8ab5-e96c03cfa025"
      }
     }
    },
    "87cab6a6-e51d-4328-b937-70b94f90bebf": {
     "id": "87cab6a6-e51d-4328-b937-70b94f90bebf",
     "prev": "d30dc0c0-0662-49db-ad6b-afdfb9222126",
     "regions": {
      "f2996436-e9ab-49bc-81a9-ff5d1f6fdb1c": {
       "attrs": {
        "height": 1,
        "width": 1,
        "x": 0,
        "y": 0
       },
       "content": {
        "cell": "593ffca6-e31d-4655-86ae-c38b8e9346e8",
        "part": "outputs"
       },
       "id": "f2996436-e9ab-49bc-81a9-ff5d1f6fdb1c"
      }
     }
    },
    "9c8327ea-68ac-4a85-b48d-9668b6eaf91d": {
     "id": "9c8327ea-68ac-4a85-b48d-9668b6eaf91d",
     "layout": "manual",
     "prev": "ec0df9c2-1973-4ce1-8cc5-b232860bf505",
     "regions": {
      "01973956-a0c1-4708-a29d-44346d17ad63": {
       "attrs": {
        "height": 0.4079885877318117,
        "width": 0.6156383737517831,
        "x": -0.01283880171184023,
        "y": 0.14407988587731813
       },
       "content": {
        "cell": "dfd00b87-cae9-40b2-9886-1fca1c332e44",
        "part": "source"
       },
       "id": "01973956-a0c1-4708-a29d-44346d17ad63"
      }
     }
    },
    "9df302d6-940c-4106-b2ab-79459d818f40": {
     "id": "9df302d6-940c-4106-b2ab-79459d818f40",
     "prev": "d23a59b2-069c-47d8-8091-fe7c442c21bd",
     "regions": {
      "497e7e65-64c6-4ebd-b61e-ce710d60abc1": {
       "attrs": {
        "height": 1,
        "width": 1,
        "x": 0,
        "y": 0
       },
       "content": {
        "cell": "a2539fa3-e9e2-47df-9589-bd0239f8c08d",
        "part": "source"
       },
       "id": "497e7e65-64c6-4ebd-b61e-ce710d60abc1"
      }
     }
    },
    "a63b4e93-8be0-4184-b1d5-54406b4c0d5f": {
     "id": "a63b4e93-8be0-4184-b1d5-54406b4c0d5f",
     "prev": "5d765f5e-50cd-4f75-aeba-ce28dbf150a3",
     "regions": {
      "f4821bc9-b5f7-43f5-b3e6-0afdfff08e6d": {
       "attrs": {
        "height": 1,
        "width": 1,
        "x": 0,
        "y": 0
       },
       "content": {
        "cell": "e8ff63ce-b7c0-4281-b3ef-be8768961f97",
        "part": "outputs"
       },
       "id": "f4821bc9-b5f7-43f5-b3e6-0afdfff08e6d"
      }
     }
    },
    "af23e0fb-1bfd-4533-8d75-455b38ebd01a": {
     "id": "af23e0fb-1bfd-4533-8d75-455b38ebd01a",
     "prev": "87cab6a6-e51d-4328-b937-70b94f90bebf",
     "regions": {
      "7a094b1e-1a00-425b-b624-a1c95aed0047": {
       "attrs": {
        "height": 1,
        "width": 1,
        "x": 0,
        "y": 0
       },
       "content": {
        "cell": "3a028f73-6f30-48e0-92bd-14369ad4a5f6",
        "part": "outputs"
       },
       "id": "7a094b1e-1a00-425b-b624-a1c95aed0047"
      }
     }
    },
    "d23a59b2-069c-47d8-8091-fe7c442c21bd": {
     "id": "d23a59b2-069c-47d8-8091-fe7c442c21bd",
     "prev": "15584da2-4698-4413-a40a-726b2cb7e573",
     "regions": {
      "e72872e3-e6ee-4b92-876c-4987f5aeeea7": {
       "attrs": {
        "height": 0.35805991440798857,
        "width": 0.7360021398002853,
        "x": -0.010431526390870185,
        "y": 0.1383737517831669
       },
       "content": {
        "cell": "b3031d16-1374-46ed-a34b-1c3b054e8cf8",
        "part": "source"
       },
       "id": "e72872e3-e6ee-4b92-876c-4987f5aeeea7"
      }
     }
    },
    "d30dc0c0-0662-49db-ad6b-afdfb9222126": {
     "id": "d30dc0c0-0662-49db-ad6b-afdfb9222126",
     "prev": "9df302d6-940c-4106-b2ab-79459d818f40",
     "regions": {
      "bc10b1cb-48a2-46e9-962b-5a36b2acc35d": {
       "attrs": {
        "height": 1,
        "width": 1,
        "x": 0,
        "y": 0
       },
       "content": {
        "cell": "52f52e7a-9025-4258-bce0-e9fd162df56b",
        "part": "source"
       },
       "id": "bc10b1cb-48a2-46e9-962b-5a36b2acc35d"
      }
     }
    },
    "ec0df9c2-1973-4ce1-8cc5-b232860bf505": {
     "id": "ec0df9c2-1973-4ce1-8cc5-b232860bf505",
     "layout": "manual",
     "prev": null,
     "regions": {
      "c64d2f52-bcce-4045-8cc8-a8b8de431ea4": {
       "attrs": {
        "height": 0.3509272467902995,
        "width": 0.8082203994293866,
        "x": -0.01283880171184023,
        "y": 0.3238231098430814
       },
       "id": "c64d2f52-bcce-4045-8cc8-a8b8de431ea4"
      }
     }
    }
   },
   "themes": {}
  }
 },
 "nbformat": 4,
 "nbformat_minor": 0
}

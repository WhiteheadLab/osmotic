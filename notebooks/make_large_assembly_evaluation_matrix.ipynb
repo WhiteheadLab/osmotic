{
 "cells": [
  {
   "cell_type": "code",
   "execution_count": 2,
   "metadata": {},
   "outputs": [],
   "source": [
    "setwd(\"../evaluation_data/\")"
   ]
  },
  {
   "cell_type": "code",
   "execution_count": 21,
   "metadata": {},
   "outputs": [],
   "source": [
    "transrate_reference_v_NCBI<-read.csv(\"transrate_reference_Fhet.NCBI_v_trinity_Dec2018.csv\")\n",
    "transrate_reference_v_newTrinity<-read.csv(\"transrate_reference_trinity_v_Fhet.NCBI_Dec2018.csv\")\n",
    "busco_scores_euk<-read.csv(\"busco_scores_Dec2018_eukaryota.csv\")\n",
    "busco_scores_metazoa<-read.csv(\"busco_scores_Dec2018_metazoa.csv\")"
   ]
  },
  {
   "cell_type": "code",
   "execution_count": 22,
   "metadata": {},
   "outputs": [],
   "source": [
    "busco_scores_euk$euk.Complete_BUSCO_perc <- busco_scores_euk$Complete_BUSCO_perc * 100"
   ]
  },
  {
   "cell_type": "code",
   "execution_count": 23,
   "metadata": {},
   "outputs": [],
   "source": [
    "busco_scores_metazoa$metazoa.Complete_BUSCO_perc <- busco_scores_metazoa$Complete_BUSCO_perc * 100"
   ]
  },
  {
   "cell_type": "code",
   "execution_count": 24,
   "metadata": {},
   "outputs": [],
   "source": [
    "colnames(busco_scores_euk)<-c(\"species\",\"Complete_euk\",\"Fragmented_euk\",\"Missing_euk\",\"Total_euk\",\"Complete_euk_proportion\",\"Complete_euk_perc\")\n",
    "colnames(busco_scores_metazoa)<-c(\"species\",\"Complete_metazoa\",\"Fragmented_metazoa\",\"Missing_metazoa\",\"Total_metazoa\",\"Complete_metazoa_proportion\",\"Complete_euk_perc\")"
   ]
  },
  {
   "cell_type": "code",
   "execution_count": 30,
   "metadata": {},
   "outputs": [],
   "source": [
    "eval_matrix <- merge(busco_scores_euk,busco_scores_metazoa,by=\"species\")\n",
    "eval_matrix <- merge(eval_matrix,transrate_reference_v_newTrinity,by=\"species\")\n",
    "eval_matrix <- merge(eval_matrix,transrate_reference_v_NCBI,by=\"species\")"
   ]
  },
  {
   "cell_type": "code",
   "execution_count": 31,
   "metadata": {},
   "outputs": [
    {
     "data": {
      "text/html": [
       "<table>\n",
       "<thead><tr><th scope=col>species</th><th scope=col>Complete_euk</th><th scope=col>Fragmented_euk</th><th scope=col>Missing_euk</th><th scope=col>Total_euk</th><th scope=col>Complete_euk_proportion</th><th scope=col>Complete_euk_perc.x</th><th scope=col>Complete_metazoa</th><th scope=col>Fragmented_metazoa</th><th scope=col>Missing_metazoa</th><th scope=col>⋯</th><th scope=col>p_cov75.y</th><th scope=col>cov85.y</th><th scope=col>p_cov85.y</th><th scope=col>cov95.y</th><th scope=col>p_cov95.y</th><th scope=col>reference_coverage.y</th><th scope=col>score.y</th><th scope=col>optimal_score.y</th><th scope=col>cutoff.y</th><th scope=col>weighted.y</th></tr></thead>\n",
       "<tbody>\n",
       "\t<tr><td>A_xenica          </td><td>302               </td><td>0                 </td><td>1                 </td><td>303               </td><td>0.9966997         </td><td> 99.66997         </td><td>967               </td><td> 6                </td><td> 5                </td><td>⋯                 </td><td>0.01870           </td><td>4448              </td><td>0.01474           </td><td>2820              </td><td>0.00935           </td><td>0.05488           </td><td>NA                </td><td>NA                </td><td>NA                </td><td>NA                </td></tr>\n",
       "\t<tr><td>F_catanatus       </td><td>301               </td><td>2                 </td><td>0                 </td><td>303               </td><td>0.9933993         </td><td> 99.33993         </td><td>966               </td><td> 7                </td><td> 5                </td><td>⋯                 </td><td>0.01975           </td><td>5141              </td><td>0.01577           </td><td>3343              </td><td>0.01026           </td><td>0.05785           </td><td>NA                </td><td>NA                </td><td>NA                </td><td>NA                </td></tr>\n",
       "\t<tr><td>F_chrysotus       </td><td>299               </td><td>3                 </td><td>1                 </td><td>303               </td><td>0.9867987         </td><td> 98.67987         </td><td>966               </td><td> 6                </td><td> 6                </td><td>⋯                 </td><td>0.01595           </td><td>4085              </td><td>0.01242           </td><td>2496              </td><td>0.00759           </td><td>0.04971           </td><td>NA                </td><td>NA                </td><td>NA                </td><td>NA                </td></tr>\n",
       "\t<tr><td>F_diaphanus       </td><td>301               </td><td>2                 </td><td>0                 </td><td>303               </td><td>0.9933993         </td><td> 99.33993         </td><td>966               </td><td> 5                </td><td> 7                </td><td>⋯                 </td><td>0.02033           </td><td>5342              </td><td>0.01666           </td><td>3517              </td><td>0.01097           </td><td>0.06579           </td><td>NA                </td><td>NA                </td><td>NA                </td><td>NA                </td></tr>\n",
       "\t<tr><td>F_grandis         </td><td>298               </td><td>5                 </td><td>0                 </td><td>303               </td><td>0.9834983         </td><td> 98.34983         </td><td>968               </td><td> 7                </td><td> 3                </td><td>⋯                 </td><td>0.01022           </td><td>5419              </td><td>0.00800           </td><td>3195              </td><td>0.00472           </td><td>0.04054           </td><td>NA                </td><td>NA                </td><td>NA                </td><td>NA                </td></tr>\n",
       "\t<tr><td>F_heteroclitusMDPL</td><td>300               </td><td>3                 </td><td>0                 </td><td>303               </td><td>0.9900990         </td><td> 99.00990         </td><td>966               </td><td> 7                </td><td> 5                </td><td>⋯                 </td><td>0.01574           </td><td>6418              </td><td>0.01310           </td><td>4323              </td><td>0.00882           </td><td>0.04797           </td><td>NA                </td><td>NA                </td><td>NA                </td><td>NA                </td></tr>\n",
       "\t<tr><td>F_heteroclitusMDPP</td><td>301               </td><td>2                 </td><td>0                 </td><td>303               </td><td>0.9933993         </td><td> 99.33993         </td><td>967               </td><td> 5                </td><td> 6                </td><td>⋯                 </td><td>0.01330           </td><td>6038              </td><td>0.01093           </td><td>3873              </td><td>0.00701           </td><td>0.04796           </td><td>NA                </td><td>NA                </td><td>NA                </td><td>NA                </td></tr>\n",
       "\t<tr><td>F_notatus         </td><td>301               </td><td>2                 </td><td>0                 </td><td>303               </td><td>0.9933993         </td><td> 99.33993         </td><td>969               </td><td> 5                </td><td> 4                </td><td>⋯                 </td><td>0.01648           </td><td>4415              </td><td>0.01287           </td><td>2669              </td><td>0.00778           </td><td>0.05061           </td><td>NA                </td><td>NA                </td><td>NA                </td><td>NA                </td></tr>\n",
       "\t<tr><td>F_notti           </td><td>299               </td><td>1                 </td><td>3                 </td><td>303               </td><td>0.9867987         </td><td> 98.67987         </td><td>955               </td><td>11                </td><td>12                </td><td>⋯                 </td><td>0.04393           </td><td>4874              </td><td>0.03703           </td><td>3550              </td><td>0.02697           </td><td>0.10860           </td><td>NA                </td><td>NA                </td><td>NA                </td><td>NA                </td></tr>\n",
       "\t<tr><td>F_olivaceous      </td><td>302               </td><td>1                 </td><td>0                 </td><td>303               </td><td>0.9966997         </td><td> 99.66997         </td><td>961               </td><td> 9                </td><td> 8                </td><td>⋯                 </td><td>0.02025           </td><td>4711              </td><td>0.01587           </td><td>2931              </td><td>0.00988           </td><td>0.06003           </td><td>NA                </td><td>NA                </td><td>NA                </td><td>NA                </td></tr>\n",
       "\t<tr><td>F_parvapinis      </td><td>299               </td><td>3                 </td><td>1                 </td><td>303               </td><td>0.9867987         </td><td> 98.67987         </td><td>970               </td><td> 4                </td><td> 4                </td><td>⋯                 </td><td>0.01658           </td><td>3774              </td><td>0.01264           </td><td>2236              </td><td>0.00749           </td><td>0.06096           </td><td>NA                </td><td>NA                </td><td>NA                </td><td>NA                </td></tr>\n",
       "\t<tr><td>F_rathbuni        </td><td>302               </td><td>1                 </td><td>0                 </td><td>303               </td><td>0.9966997         </td><td> 99.66997         </td><td>969               </td><td> 2                </td><td> 7                </td><td>⋯                 </td><td>0.01404           </td><td>4622              </td><td>0.01101           </td><td>2736              </td><td>0.00652           </td><td>0.04976           </td><td>NA                </td><td>NA                </td><td>NA                </td><td>NA                </td></tr>\n",
       "\t<tr><td>F_sciadicus       </td><td>299               </td><td>2                 </td><td>2                 </td><td>303               </td><td>0.9867987         </td><td> 98.67987         </td><td>961               </td><td> 8                </td><td> 9                </td><td>⋯                 </td><td>0.02965           </td><td>4854              </td><td>0.02431           </td><td>3293              </td><td>0.01649           </td><td>0.08138           </td><td>NA                </td><td>NA                </td><td>NA                </td><td>NA                </td></tr>\n",
       "\t<tr><td>F_similis         </td><td>296               </td><td>4                 </td><td>3                 </td><td>303               </td><td>0.9768977         </td><td> 97.68977         </td><td>963               </td><td> 8                </td><td> 7                </td><td>⋯                 </td><td>0.01421           </td><td>4792              </td><td>0.01124           </td><td>2897              </td><td>0.00680           </td><td>0.05035           </td><td>NA                </td><td>NA                </td><td>NA                </td><td>NA                </td></tr>\n",
       "\t<tr><td>F_zebrinus        </td><td>301               </td><td>2                 </td><td>0                 </td><td>303               </td><td>0.9933993         </td><td> 99.33993         </td><td>964               </td><td> 6                </td><td> 8                </td><td>⋯                 </td><td>0.02672           </td><td>5138              </td><td>0.02233           </td><td>3536              </td><td>0.01537           </td><td>0.07208           </td><td>NA                </td><td>NA                </td><td>NA                </td><td>NA                </td></tr>\n",
       "\t<tr><td>L_goodei          </td><td>303               </td><td>0                 </td><td>0                 </td><td>303               </td><td>1.0000000         </td><td>100.00000         </td><td>964               </td><td> 9                </td><td> 5                </td><td>⋯                 </td><td>0.01809           </td><td>4477              </td><td>0.01399           </td><td>2756              </td><td>0.00861           </td><td>0.05393           </td><td>NA                </td><td>NA                </td><td>NA                </td><td>NA                </td></tr>\n",
       "\t<tr><td>L_parva           </td><td>298               </td><td>4                 </td><td>1                 </td><td>303               </td><td>0.9834983         </td><td> 98.34983         </td><td>963               </td><td> 9                </td><td> 6                </td><td>⋯                 </td><td>0.01715           </td><td>4538              </td><td>0.01330           </td><td>2753              </td><td>0.00807           </td><td>0.05248           </td><td>NA                </td><td>NA                </td><td>NA                </td><td>NA                </td></tr>\n",
       "</tbody>\n",
       "</table>\n"
      ],
      "text/latex": [
       "\\begin{tabular}{r|lllllllllllllllllllllllllllllllllllllllllllllllllllllllllllllllllllllllllllllllllllllllllllll}\n",
       " species & Complete\\_euk & Fragmented\\_euk & Missing\\_euk & Total\\_euk & Complete\\_euk\\_proportion & Complete\\_euk\\_perc.x & Complete\\_metazoa & Fragmented\\_metazoa & Missing\\_metazoa & ⋯ & p\\_cov75.y & cov85.y & p\\_cov85.y & cov95.y & p\\_cov95.y & reference\\_coverage.y & score.y & optimal\\_score.y & cutoff.y & weighted.y\\\\\n",
       "\\hline\n",
       "\t A\\_xenica           & 302                  & 0                    & 1                    & 303                  & 0.9966997            &  99.66997            & 967                  &  6                   &  5                   & ⋯                    & 0.01870              & 4448                 & 0.01474              & 2820                 & 0.00935              & 0.05488              & NA                   & NA                   & NA                   & NA                  \\\\\n",
       "\t F\\_catanatus        & 301                  & 2                    & 0                    & 303                  & 0.9933993            &  99.33993            & 966                  &  7                   &  5                   & ⋯                    & 0.01975              & 5141                 & 0.01577              & 3343                 & 0.01026              & 0.05785              & NA                   & NA                   & NA                   & NA                  \\\\\n",
       "\t F\\_chrysotus        & 299                  & 3                    & 1                    & 303                  & 0.9867987            &  98.67987            & 966                  &  6                   &  6                   & ⋯                    & 0.01595              & 4085                 & 0.01242              & 2496                 & 0.00759              & 0.04971              & NA                   & NA                   & NA                   & NA                  \\\\\n",
       "\t F\\_diaphanus        & 301                  & 2                    & 0                    & 303                  & 0.9933993            &  99.33993            & 966                  &  5                   &  7                   & ⋯                    & 0.02033              & 5342                 & 0.01666              & 3517                 & 0.01097              & 0.06579              & NA                   & NA                   & NA                   & NA                  \\\\\n",
       "\t F\\_grandis          & 298                  & 5                    & 0                    & 303                  & 0.9834983            &  98.34983            & 968                  &  7                   &  3                   & ⋯                    & 0.01022              & 5419                 & 0.00800              & 3195                 & 0.00472              & 0.04054              & NA                   & NA                   & NA                   & NA                  \\\\\n",
       "\t F\\_heteroclitusMDPL & 300                  & 3                    & 0                    & 303                  & 0.9900990            &  99.00990            & 966                  &  7                   &  5                   & ⋯                    & 0.01574              & 6418                 & 0.01310              & 4323                 & 0.00882              & 0.04797              & NA                   & NA                   & NA                   & NA                  \\\\\n",
       "\t F\\_heteroclitusMDPP & 301                  & 2                    & 0                    & 303                  & 0.9933993            &  99.33993            & 967                  &  5                   &  6                   & ⋯                    & 0.01330              & 6038                 & 0.01093              & 3873                 & 0.00701              & 0.04796              & NA                   & NA                   & NA                   & NA                  \\\\\n",
       "\t F\\_notatus          & 301                  & 2                    & 0                    & 303                  & 0.9933993            &  99.33993            & 969                  &  5                   &  4                   & ⋯                    & 0.01648              & 4415                 & 0.01287              & 2669                 & 0.00778              & 0.05061              & NA                   & NA                   & NA                   & NA                  \\\\\n",
       "\t F\\_notti            & 299                  & 1                    & 3                    & 303                  & 0.9867987            &  98.67987            & 955                  & 11                   & 12                   & ⋯                    & 0.04393              & 4874                 & 0.03703              & 3550                 & 0.02697              & 0.10860              & NA                   & NA                   & NA                   & NA                  \\\\\n",
       "\t F\\_olivaceous       & 302                  & 1                    & 0                    & 303                  & 0.9966997            &  99.66997            & 961                  &  9                   &  8                   & ⋯                    & 0.02025              & 4711                 & 0.01587              & 2931                 & 0.00988              & 0.06003              & NA                   & NA                   & NA                   & NA                  \\\\\n",
       "\t F\\_parvapinis       & 299                  & 3                    & 1                    & 303                  & 0.9867987            &  98.67987            & 970                  &  4                   &  4                   & ⋯                    & 0.01658              & 3774                 & 0.01264              & 2236                 & 0.00749              & 0.06096              & NA                   & NA                   & NA                   & NA                  \\\\\n",
       "\t F\\_rathbuni         & 302                  & 1                    & 0                    & 303                  & 0.9966997            &  99.66997            & 969                  &  2                   &  7                   & ⋯                    & 0.01404              & 4622                 & 0.01101              & 2736                 & 0.00652              & 0.04976              & NA                   & NA                   & NA                   & NA                  \\\\\n",
       "\t F\\_sciadicus        & 299                  & 2                    & 2                    & 303                  & 0.9867987            &  98.67987            & 961                  &  8                   &  9                   & ⋯                    & 0.02965              & 4854                 & 0.02431              & 3293                 & 0.01649              & 0.08138              & NA                   & NA                   & NA                   & NA                  \\\\\n",
       "\t F\\_similis          & 296                  & 4                    & 3                    & 303                  & 0.9768977            &  97.68977            & 963                  &  8                   &  7                   & ⋯                    & 0.01421              & 4792                 & 0.01124              & 2897                 & 0.00680              & 0.05035              & NA                   & NA                   & NA                   & NA                  \\\\\n",
       "\t F\\_zebrinus         & 301                  & 2                    & 0                    & 303                  & 0.9933993            &  99.33993            & 964                  &  6                   &  8                   & ⋯                    & 0.02672              & 5138                 & 0.02233              & 3536                 & 0.01537              & 0.07208              & NA                   & NA                   & NA                   & NA                  \\\\\n",
       "\t L\\_goodei           & 303                  & 0                    & 0                    & 303                  & 1.0000000            & 100.00000            & 964                  &  9                   &  5                   & ⋯                    & 0.01809              & 4477                 & 0.01399              & 2756                 & 0.00861              & 0.05393              & NA                   & NA                   & NA                   & NA                  \\\\\n",
       "\t L\\_parva            & 298                  & 4                    & 1                    & 303                  & 0.9834983            &  98.34983            & 963                  &  9                   &  6                   & ⋯                    & 0.01715              & 4538                 & 0.01330              & 2753                 & 0.00807              & 0.05248              & NA                   & NA                   & NA                   & NA                  \\\\\n",
       "\\end{tabular}\n"
      ],
      "text/markdown": [
       "\n",
       "species | Complete_euk | Fragmented_euk | Missing_euk | Total_euk | Complete_euk_proportion | Complete_euk_perc.x | Complete_metazoa | Fragmented_metazoa | Missing_metazoa | ⋯ | p_cov75.y | cov85.y | p_cov85.y | cov95.y | p_cov95.y | reference_coverage.y | score.y | optimal_score.y | cutoff.y | weighted.y | \n",
       "|---|---|---|---|---|---|---|---|---|---|---|---|---|---|---|---|---|\n",
       "| A_xenica           | 302                | 0                  | 1                  | 303                | 0.9966997          |  99.66997          | 967                |  6                 |  5                 | ⋯                  | 0.01870            | 4448               | 0.01474            | 2820               | 0.00935            | 0.05488            | NA                 | NA                 | NA                 | NA                 | \n",
       "| F_catanatus        | 301                | 2                  | 0                  | 303                | 0.9933993          |  99.33993          | 966                |  7                 |  5                 | ⋯                  | 0.01975            | 5141               | 0.01577            | 3343               | 0.01026            | 0.05785            | NA                 | NA                 | NA                 | NA                 | \n",
       "| F_chrysotus        | 299                | 3                  | 1                  | 303                | 0.9867987          |  98.67987          | 966                |  6                 |  6                 | ⋯                  | 0.01595            | 4085               | 0.01242            | 2496               | 0.00759            | 0.04971            | NA                 | NA                 | NA                 | NA                 | \n",
       "| F_diaphanus        | 301                | 2                  | 0                  | 303                | 0.9933993          |  99.33993          | 966                |  5                 |  7                 | ⋯                  | 0.02033            | 5342               | 0.01666            | 3517               | 0.01097            | 0.06579            | NA                 | NA                 | NA                 | NA                 | \n",
       "| F_grandis          | 298                | 5                  | 0                  | 303                | 0.9834983          |  98.34983          | 968                |  7                 |  3                 | ⋯                  | 0.01022            | 5419               | 0.00800            | 3195               | 0.00472            | 0.04054            | NA                 | NA                 | NA                 | NA                 | \n",
       "| F_heteroclitusMDPL | 300                | 3                  | 0                  | 303                | 0.9900990          |  99.00990          | 966                |  7                 |  5                 | ⋯                  | 0.01574            | 6418               | 0.01310            | 4323               | 0.00882            | 0.04797            | NA                 | NA                 | NA                 | NA                 | \n",
       "| F_heteroclitusMDPP | 301                | 2                  | 0                  | 303                | 0.9933993          |  99.33993          | 967                |  5                 |  6                 | ⋯                  | 0.01330            | 6038               | 0.01093            | 3873               | 0.00701            | 0.04796            | NA                 | NA                 | NA                 | NA                 | \n",
       "| F_notatus          | 301                | 2                  | 0                  | 303                | 0.9933993          |  99.33993          | 969                |  5                 |  4                 | ⋯                  | 0.01648            | 4415               | 0.01287            | 2669               | 0.00778            | 0.05061            | NA                 | NA                 | NA                 | NA                 | \n",
       "| F_notti            | 299                | 1                  | 3                  | 303                | 0.9867987          |  98.67987          | 955                | 11                 | 12                 | ⋯                  | 0.04393            | 4874               | 0.03703            | 3550               | 0.02697            | 0.10860            | NA                 | NA                 | NA                 | NA                 | \n",
       "| F_olivaceous       | 302                | 1                  | 0                  | 303                | 0.9966997          |  99.66997          | 961                |  9                 |  8                 | ⋯                  | 0.02025            | 4711               | 0.01587            | 2931               | 0.00988            | 0.06003            | NA                 | NA                 | NA                 | NA                 | \n",
       "| F_parvapinis       | 299                | 3                  | 1                  | 303                | 0.9867987          |  98.67987          | 970                |  4                 |  4                 | ⋯                  | 0.01658            | 3774               | 0.01264            | 2236               | 0.00749            | 0.06096            | NA                 | NA                 | NA                 | NA                 | \n",
       "| F_rathbuni         | 302                | 1                  | 0                  | 303                | 0.9966997          |  99.66997          | 969                |  2                 |  7                 | ⋯                  | 0.01404            | 4622               | 0.01101            | 2736               | 0.00652            | 0.04976            | NA                 | NA                 | NA                 | NA                 | \n",
       "| F_sciadicus        | 299                | 2                  | 2                  | 303                | 0.9867987          |  98.67987          | 961                |  8                 |  9                 | ⋯                  | 0.02965            | 4854               | 0.02431            | 3293               | 0.01649            | 0.08138            | NA                 | NA                 | NA                 | NA                 | \n",
       "| F_similis          | 296                | 4                  | 3                  | 303                | 0.9768977          |  97.68977          | 963                |  8                 |  7                 | ⋯                  | 0.01421            | 4792               | 0.01124            | 2897               | 0.00680            | 0.05035            | NA                 | NA                 | NA                 | NA                 | \n",
       "| F_zebrinus         | 301                | 2                  | 0                  | 303                | 0.9933993          |  99.33993          | 964                |  6                 |  8                 | ⋯                  | 0.02672            | 5138               | 0.02233            | 3536               | 0.01537            | 0.07208            | NA                 | NA                 | NA                 | NA                 | \n",
       "| L_goodei           | 303                | 0                  | 0                  | 303                | 1.0000000          | 100.00000          | 964                |  9                 |  5                 | ⋯                  | 0.01809            | 4477               | 0.01399            | 2756               | 0.00861            | 0.05393            | NA                 | NA                 | NA                 | NA                 | \n",
       "| L_parva            | 298                | 4                  | 1                  | 303                | 0.9834983          |  98.34983          | 963                |  9                 |  6                 | ⋯                  | 0.01715            | 4538               | 0.01330            | 2753               | 0.00807            | 0.05248            | NA                 | NA                 | NA                 | NA                 | \n",
       "\n",
       "\n"
      ],
      "text/plain": [
       "   species            Complete_euk Fragmented_euk Missing_euk Total_euk\n",
       "1  A_xenica           302          0              1           303      \n",
       "2  F_catanatus        301          2              0           303      \n",
       "3  F_chrysotus        299          3              1           303      \n",
       "4  F_diaphanus        301          2              0           303      \n",
       "5  F_grandis          298          5              0           303      \n",
       "6  F_heteroclitusMDPL 300          3              0           303      \n",
       "7  F_heteroclitusMDPP 301          2              0           303      \n",
       "8  F_notatus          301          2              0           303      \n",
       "9  F_notti            299          1              3           303      \n",
       "10 F_olivaceous       302          1              0           303      \n",
       "11 F_parvapinis       299          3              1           303      \n",
       "12 F_rathbuni         302          1              0           303      \n",
       "13 F_sciadicus        299          2              2           303      \n",
       "14 F_similis          296          4              3           303      \n",
       "15 F_zebrinus         301          2              0           303      \n",
       "16 L_goodei           303          0              0           303      \n",
       "17 L_parva            298          4              1           303      \n",
       "   Complete_euk_proportion Complete_euk_perc.x Complete_metazoa\n",
       "1  0.9966997                99.66997           967             \n",
       "2  0.9933993                99.33993           966             \n",
       "3  0.9867987                98.67987           966             \n",
       "4  0.9933993                99.33993           966             \n",
       "5  0.9834983                98.34983           968             \n",
       "6  0.9900990                99.00990           966             \n",
       "7  0.9933993                99.33993           967             \n",
       "8  0.9933993                99.33993           969             \n",
       "9  0.9867987                98.67987           955             \n",
       "10 0.9966997                99.66997           961             \n",
       "11 0.9867987                98.67987           970             \n",
       "12 0.9966997                99.66997           969             \n",
       "13 0.9867987                98.67987           961             \n",
       "14 0.9768977                97.68977           963             \n",
       "15 0.9933993                99.33993           964             \n",
       "16 1.0000000               100.00000           964             \n",
       "17 0.9834983                98.34983           963             \n",
       "   Fragmented_metazoa Missing_metazoa ⋯ p_cov75.y cov85.y p_cov85.y cov95.y\n",
       "1   6                  5              ⋯ 0.01870   4448    0.01474   2820   \n",
       "2   7                  5              ⋯ 0.01975   5141    0.01577   3343   \n",
       "3   6                  6              ⋯ 0.01595   4085    0.01242   2496   \n",
       "4   5                  7              ⋯ 0.02033   5342    0.01666   3517   \n",
       "5   7                  3              ⋯ 0.01022   5419    0.00800   3195   \n",
       "6   7                  5              ⋯ 0.01574   6418    0.01310   4323   \n",
       "7   5                  6              ⋯ 0.01330   6038    0.01093   3873   \n",
       "8   5                  4              ⋯ 0.01648   4415    0.01287   2669   \n",
       "9  11                 12              ⋯ 0.04393   4874    0.03703   3550   \n",
       "10  9                  8              ⋯ 0.02025   4711    0.01587   2931   \n",
       "11  4                  4              ⋯ 0.01658   3774    0.01264   2236   \n",
       "12  2                  7              ⋯ 0.01404   4622    0.01101   2736   \n",
       "13  8                  9              ⋯ 0.02965   4854    0.02431   3293   \n",
       "14  8                  7              ⋯ 0.01421   4792    0.01124   2897   \n",
       "15  6                  8              ⋯ 0.02672   5138    0.02233   3536   \n",
       "16  9                  5              ⋯ 0.01809   4477    0.01399   2756   \n",
       "17  9                  6              ⋯ 0.01715   4538    0.01330   2753   \n",
       "   p_cov95.y reference_coverage.y score.y optimal_score.y cutoff.y weighted.y\n",
       "1  0.00935   0.05488              NA      NA              NA       NA        \n",
       "2  0.01026   0.05785              NA      NA              NA       NA        \n",
       "3  0.00759   0.04971              NA      NA              NA       NA        \n",
       "4  0.01097   0.06579              NA      NA              NA       NA        \n",
       "5  0.00472   0.04054              NA      NA              NA       NA        \n",
       "6  0.00882   0.04797              NA      NA              NA       NA        \n",
       "7  0.00701   0.04796              NA      NA              NA       NA        \n",
       "8  0.00778   0.05061              NA      NA              NA       NA        \n",
       "9  0.02697   0.10860              NA      NA              NA       NA        \n",
       "10 0.00988   0.06003              NA      NA              NA       NA        \n",
       "11 0.00749   0.06096              NA      NA              NA       NA        \n",
       "12 0.00652   0.04976              NA      NA              NA       NA        \n",
       "13 0.01649   0.08138              NA      NA              NA       NA        \n",
       "14 0.00680   0.05035              NA      NA              NA       NA        \n",
       "15 0.01537   0.07208              NA      NA              NA       NA        \n",
       "16 0.00861   0.05393              NA      NA              NA       NA        \n",
       "17 0.00807   0.05248              NA      NA              NA       NA        "
      ]
     },
     "metadata": {},
     "output_type": "display_data"
    }
   ],
   "source": [
    "eval_matrix"
   ]
  },
  {
   "cell_type": "code",
   "execution_count": 32,
   "metadata": {},
   "outputs": [],
   "source": [
    "write.csv(eval_matrix,\"Fundulus_transcriptome_assembly_evaluation_matrix.csv\")"
   ]
  },
  {
   "cell_type": "code",
   "execution_count": null,
   "metadata": {
    "collapsed": true
   },
   "outputs": [],
   "source": []
  }
 ],
 "metadata": {
  "kernelspec": {
   "display_name": "R",
   "language": "R",
   "name": "ir"
  },
  "language_info": {
   "codemirror_mode": "r",
   "file_extension": ".r",
   "mimetype": "text/x-r-source",
   "name": "R",
   "pygments_lexer": "r",
   "version": "3.4.1"
  }
 },
 "nbformat": 4,
 "nbformat_minor": 2
}

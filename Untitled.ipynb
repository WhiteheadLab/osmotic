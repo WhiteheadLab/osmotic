{
 "cells": [
  {
   "cell_type": "code",
   "execution_count": 11,
   "metadata": {
    "collapsed": false
   },
   "outputs": [
    {
     "name": "stderr",
     "output_type": "stream",
     "text": [
      "Bioconductor version 3.1 (BiocInstaller 1.18.5), ?biocLite for help\n",
      "A newer version of Bioconductor is available for this version of R,\n",
      "  ?BiocUpgrade for help\n",
      "BioC_mirror: http://bioconductor.org\n",
      "Using Bioconductor version 3.1 (BiocInstaller 1.18.5), R version 3.2.2.\n",
      "Installing package(s) ‘DESeq2’\n",
      "also installing the dependencies ‘XML’, ‘annotate’, ‘acepack’, ‘genefilter’, ‘geneplotter’, ‘Hmisc’\n",
      "\n",
      "Warning message:\n",
      "In install.packages(pkgs = doing, lib = lib, ...): installation of package ‘XML’ had non-zero exit statusWarning message:\n",
      "In install.packages(pkgs = doing, lib = lib, ...): installation of package ‘acepack’ had non-zero exit statusWarning message:\n",
      "In install.packages(pkgs = doing, lib = lib, ...): installation of package ‘annotate’ had non-zero exit statusWarning message:\n",
      "In install.packages(pkgs = doing, lib = lib, ...): installation of package ‘Hmisc’ had non-zero exit statusWarning message:\n",
      "In install.packages(pkgs = doing, lib = lib, ...): installation of package ‘genefilter’ had non-zero exit statusWarning message:\n",
      "In install.packages(pkgs = doing, lib = lib, ...): installation of package ‘geneplotter’ had non-zero exit statusWarning message:\n",
      "In install.packages(pkgs = doing, lib = lib, ...): installation of package ‘DESeq2’ had non-zero exit status"
     ]
    },
    {
     "name": "stdout",
     "output_type": "stream",
     "text": [
      "\n",
      "The downloaded source packages are in\n",
      "\t‘/private/var/folders/8s/p7_6v9dd70j8l0m9sqjr6lvw0000gn/T/Rtmpg1o0LI/downloaded_packages’\n"
     ]
    },
    {
     "name": "stderr",
     "output_type": "stream",
     "text": [
      "Updating HTML index of packages in '.Library'\n",
      "Making 'packages.html' ... done\n",
      "Old packages: 'BH', 'boot', 'car', 'caret', 'cluster', 'DBI', 'digest',\n",
      "  'evaluate', 'formatR', 'glmnet', 'gtable', 'highr', 'htmltools',\n",
      "  'htmlwidgets', 'jsonlite', 'knitr', 'lazyeval', 'lme4', 'maps', 'Matrix',\n",
      "  'mgcv', 'munsell', 'nlme', 'nnet', 'plyr', 'quantreg', 'R6', 'rbokeh',\n",
      "  'Rcpp', 'RcppEigen', 'repr', 'rmarkdown', 'scales', 'shiny', 'stringi',\n",
      "  'survival', 'tidyr', 'TTR', 'xtable', 'zoo'\n"
     ]
    }
   ],
   "source": [
    "source(\"http://bioconductor.org/biocLite.R\")\n",
    "biocLite(\"DESeq2\")"
   ]
  },
  {
   "cell_type": "code",
   "execution_count": 9,
   "metadata": {
    "collapsed": false
   },
   "outputs": [
    {
     "name": "stdout",
     "output_type": "stream",
     "text": [
      "\n",
      "The downloaded source packages are in\n",
      "\t‘/private/var/folders/8s/p7_6v9dd70j8l0m9sqjr6lvw0000gn/T/Rtmpg1o0LI/downloaded_packages’\n"
     ]
    },
    {
     "name": "stderr",
     "output_type": "stream",
     "text": [
      "Updating HTML index of packages in '.Library'\n",
      "Making 'packages.html' ... done\n"
     ]
    }
   ],
   "source": [
    "\n",
    "install.packages(\"gplots\",repos=\"http://cran.rstudio.com/\")\n",
    "library(\"RColorBrewer\")"
   ]
  },
  {
   "cell_type": "code",
   "execution_count": 10,
   "metadata": {
    "collapsed": false
   },
   "outputs": [
    {
     "ename": "ERROR",
     "evalue": "Error in library(DESeq2): there is no package called ‘DESeq2’\n",
     "output_type": "error",
     "traceback": [
      "Error in library(DESeq2): there is no package called ‘DESeq2’\n"
     ]
    },
    {
     "name": "stderr",
     "output_type": "stream",
     "text": [
      "\n",
      "Attaching package: ‘gplots’\n",
      "\n",
      "The following object is masked from ‘package:stats’:\n",
      "\n",
      "    lowess\n",
      "\n"
     ]
    }
   ],
   "source": [
    "library(DESeq2)\n",
    "library(RColorBrewer)\n",
    "library(gplots)"
   ]
  },
  {
   "cell_type": "code",
   "execution_count": null,
   "metadata": {
    "collapsed": true
   },
   "outputs": [],
   "source": []
  }
 ],
 "metadata": {
  "kernelspec": {
   "display_name": "R",
   "language": "R",
   "name": "ir"
  },
  "language_info": {
   "codemirror_mode": "r",
   "file_extension": ".r",
   "mimetype": "text/x-r-source",
   "name": "R",
   "pygments_lexer": "r",
   "version": "3.2.2"
  }
 },
 "nbformat": 4,
 "nbformat_minor": 0
}

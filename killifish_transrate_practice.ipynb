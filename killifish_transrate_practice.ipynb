{
 "cells": [
  {
   "cell_type": "code",
   "execution_count": 1,
   "metadata": {
    "collapsed": false
   },
   "outputs": [
    {
     "name": "stdout",
     "output_type": "stream",
     "text": [
      "Populating the interactive namespace from numpy and matplotlib\n"
     ]
    }
   ],
   "source": [
    "%matplotlib inline\n",
    "%pylab inline\n",
    "import pandas as pd\n",
    "import pylab as pl"
   ]
  },
  {
   "cell_type": "code",
   "execution_count": 4,
   "metadata": {
    "collapsed": false
   },
   "outputs": [
    {
     "name": "stdout",
     "output_type": "stream",
     "text": [
      "\u001b[0m\u001b[01;32m15.02.17.trimmomatic_array.sh\u001b[0m*       merge.py\r\n",
      "\u001b[01;32m15.11.13.featurecounts.sh\u001b[0m*           ncbi.py\r\n",
      "\u001b[01;32m16.1.14.trimmomatic_array.sh\u001b[0m*        NEBnextAdapt.fa\r\n",
      "annotation.py                        notes_2016-02-12.md\r\n",
      "assembly.py                          notes_2016-03-08.md\r\n",
      "BC5NU8ACXX_Demultiplex_Stats.htm     osmotic_edgeR_plots.R\r\n",
      "bwa_mem_paired_array.sh              osmotic_edgeR_script.R\r\n",
      "bwa_mem_unpaired_array.sh            osmotic_killifish_transrate2_data.csv\r\n",
      "C5VPYACXX_Demultiplex_Stats.htm      osmotic_killifish_transrate_data.csv\r\n",
      "cd-hit.py                            README.md\r\n",
      "clusterfunc.py                       read_stats.py\r\n",
      "clusterfunc.pyc                      read_stats.txt\r\n",
      "combine.py                           report.py\r\n",
      "combine_raw.py                       sbatch_merge.sh\r\n",
      "combine.sh                           slurm-6704017.out\r\n",
      "dammit.py                            slurm-6704191.out\r\n",
      "dammit.pyc                           split_F_heteroclitus.py\r\n",
      "diginorm_stats.txt                   split_khmer_F_heteroclitus.py\r\n",
      "F_zebrinus_transrate_assemblies.csv  transcript_bwa_align.py\r\n",
      "F_zebrinus_transrate_contigs.csv     transrate.py\r\n",
      "indexbam.sh                          trim_qc_F_heteroclitus.py\r\n",
      "khmer_F_heteroclitus.py              trim_qc.py\r\n",
      "khmer.py                             trim_stats.txt\r\n",
      "khmer.pyc                            Untitled.ipynb\r\n",
      "mergebams.sh\r\n"
     ]
    }
   ],
   "source": [
    "df = pd.DataFrame()\n",
    "%ls"
   ]
  },
  {
   "cell_type": "code",
   "execution_count": 5,
   "metadata": {
    "collapsed": true
   },
   "outputs": [],
   "source": [
    "data_frame = df.from_csv('osmotic_killifish_transrate_data.csv')"
   ]
  },
  {
   "cell_type": "code",
   "execution_count": 7,
   "metadata": {
    "collapsed": false
   },
   "outputs": [
    {
     "data": {
      "text/html": [
       "<div>\n",
       "<table border=\"1\" class=\"dataframe\">\n",
       "  <thead>\n",
       "    <tr style=\"text-align: right;\">\n",
       "      <th></th>\n",
       "      <th>CRBB_hits</th>\n",
       "      <th>at_skew</th>\n",
       "      <th>bases_n</th>\n",
       "      <th>cov25</th>\n",
       "      <th>cov50</th>\n",
       "      <th>cov75</th>\n",
       "      <th>cov85</th>\n",
       "      <th>cov95</th>\n",
       "      <th>cpg_ratio</th>\n",
       "      <th>cutoff</th>\n",
       "      <th>...</th>\n",
       "      <th>p_cov50</th>\n",
       "      <th>p_cov75</th>\n",
       "      <th>p_cov85</th>\n",
       "      <th>p_cov95</th>\n",
       "      <th>p_refs_with_CRBB</th>\n",
       "      <th>proportion_n</th>\n",
       "      <th>rbh_per_reference</th>\n",
       "      <th>reference_coverage</th>\n",
       "      <th>score</th>\n",
       "      <th>smallest</th>\n",
       "    </tr>\n",
       "  </thead>\n",
       "  <tbody>\n",
       "    <tr>\n",
       "      <th>/home/ljcohen/msu_assemblies_finished/F_sciadicus/F_sciadicus.Trinity.fixed.fa</th>\n",
       "      <td>130350</td>\n",
       "      <td>0.00741</td>\n",
       "      <td>0</td>\n",
       "      <td>16892</td>\n",
       "      <td>11481</td>\n",
       "      <td>6942</td>\n",
       "      <td>5218</td>\n",
       "      <td>3350</td>\n",
       "      <td>1.59556</td>\n",
       "      <td>NaN</td>\n",
       "      <td>...</td>\n",
       "      <td>0.10434</td>\n",
       "      <td>0.06309</td>\n",
       "      <td>0.04742</td>\n",
       "      <td>0.03045</td>\n",
       "      <td>0.40657</td>\n",
       "      <td>0</td>\n",
       "      <td>1.18467</td>\n",
       "      <td>0.12068</td>\n",
       "      <td>NaN</td>\n",
       "      <td>224</td>\n",
       "    </tr>\n",
       "    <tr>\n",
       "      <th>/home/ljcohen/msu_assemblies_finished/F_chrysotus/F_chrysotus.Trinity.fixed.fa</th>\n",
       "      <td>138437</td>\n",
       "      <td>0.00566</td>\n",
       "      <td>0</td>\n",
       "      <td>17907</td>\n",
       "      <td>12667</td>\n",
       "      <td>7852</td>\n",
       "      <td>5915</td>\n",
       "      <td>3918</td>\n",
       "      <td>1.58271</td>\n",
       "      <td>NaN</td>\n",
       "      <td>...</td>\n",
       "      <td>0.11512</td>\n",
       "      <td>0.07136</td>\n",
       "      <td>0.05376</td>\n",
       "      <td>0.03561</td>\n",
       "      <td>0.42360</td>\n",
       "      <td>0</td>\n",
       "      <td>1.25816</td>\n",
       "      <td>0.13059</td>\n",
       "      <td>NaN</td>\n",
       "      <td>224</td>\n",
       "    </tr>\n",
       "    <tr>\n",
       "      <th>/home/ljcohen/msu_assemblies_finished/F_diaphanus/F_diaphanus.Trinity.fixed.fa</th>\n",
       "      <td>185108</td>\n",
       "      <td>0.00715</td>\n",
       "      <td>0</td>\n",
       "      <td>19844</td>\n",
       "      <td>12971</td>\n",
       "      <td>7689</td>\n",
       "      <td>5886</td>\n",
       "      <td>3901</td>\n",
       "      <td>1.63383</td>\n",
       "      <td>NaN</td>\n",
       "      <td>...</td>\n",
       "      <td>0.11788</td>\n",
       "      <td>0.06988</td>\n",
       "      <td>0.05349</td>\n",
       "      <td>0.03545</td>\n",
       "      <td>0.48774</td>\n",
       "      <td>0</td>\n",
       "      <td>1.68233</td>\n",
       "      <td>0.13775</td>\n",
       "      <td>NaN</td>\n",
       "      <td>224</td>\n",
       "    </tr>\n",
       "    <tr>\n",
       "      <th>/home/ljcohen/msu_assemblies_finished/F_notti/F_notti.Trinity.fixed.fa</th>\n",
       "      <td>49312</td>\n",
       "      <td>0.00603</td>\n",
       "      <td>0</td>\n",
       "      <td>9205</td>\n",
       "      <td>6114</td>\n",
       "      <td>3656</td>\n",
       "      <td>2694</td>\n",
       "      <td>1758</td>\n",
       "      <td>1.60211</td>\n",
       "      <td>NaN</td>\n",
       "      <td>...</td>\n",
       "      <td>0.05557</td>\n",
       "      <td>0.03323</td>\n",
       "      <td>0.02448</td>\n",
       "      <td>0.01598</td>\n",
       "      <td>0.22949</td>\n",
       "      <td>0</td>\n",
       "      <td>0.44816</td>\n",
       "      <td>0.06534</td>\n",
       "      <td>NaN</td>\n",
       "      <td>224</td>\n",
       "    </tr>\n",
       "    <tr>\n",
       "      <th>/home/ljcohen/msu_assemblies_finished/F_similis/F_similis.Trinity.fixed.fa</th>\n",
       "      <td>140898</td>\n",
       "      <td>0.00627</td>\n",
       "      <td>0</td>\n",
       "      <td>16828</td>\n",
       "      <td>11257</td>\n",
       "      <td>6826</td>\n",
       "      <td>5081</td>\n",
       "      <td>3286</td>\n",
       "      <td>1.67235</td>\n",
       "      <td>NaN</td>\n",
       "      <td>...</td>\n",
       "      <td>0.10231</td>\n",
       "      <td>0.06204</td>\n",
       "      <td>0.04618</td>\n",
       "      <td>0.02986</td>\n",
       "      <td>0.42877</td>\n",
       "      <td>0</td>\n",
       "      <td>1.28053</td>\n",
       "      <td>0.12048</td>\n",
       "      <td>NaN</td>\n",
       "      <td>224</td>\n",
       "    </tr>\n",
       "  </tbody>\n",
       "</table>\n",
       "<p>5 rows × 42 columns</p>\n",
       "</div>"
      ],
      "text/plain": [
       "                                                    CRBB_hits  at_skew  \\\n",
       "/home/ljcohen/msu_assemblies_finished/F_sciadic...     130350  0.00741   \n",
       "/home/ljcohen/msu_assemblies_finished/F_chrysot...     138437  0.00566   \n",
       "/home/ljcohen/msu_assemblies_finished/F_diaphan...     185108  0.00715   \n",
       "/home/ljcohen/msu_assemblies_finished/F_notti/F...      49312  0.00603   \n",
       "/home/ljcohen/msu_assemblies_finished/F_similis...     140898  0.00627   \n",
       "\n",
       "                                                    bases_n  cov25  cov50  \\\n",
       "/home/ljcohen/msu_assemblies_finished/F_sciadic...        0  16892  11481   \n",
       "/home/ljcohen/msu_assemblies_finished/F_chrysot...        0  17907  12667   \n",
       "/home/ljcohen/msu_assemblies_finished/F_diaphan...        0  19844  12971   \n",
       "/home/ljcohen/msu_assemblies_finished/F_notti/F...        0   9205   6114   \n",
       "/home/ljcohen/msu_assemblies_finished/F_similis...        0  16828  11257   \n",
       "\n",
       "                                                    cov75  cov85  cov95  \\\n",
       "/home/ljcohen/msu_assemblies_finished/F_sciadic...   6942   5218   3350   \n",
       "/home/ljcohen/msu_assemblies_finished/F_chrysot...   7852   5915   3918   \n",
       "/home/ljcohen/msu_assemblies_finished/F_diaphan...   7689   5886   3901   \n",
       "/home/ljcohen/msu_assemblies_finished/F_notti/F...   3656   2694   1758   \n",
       "/home/ljcohen/msu_assemblies_finished/F_similis...   6826   5081   3286   \n",
       "\n",
       "                                                    cpg_ratio  cutoff  \\\n",
       "/home/ljcohen/msu_assemblies_finished/F_sciadic...    1.59556     NaN   \n",
       "/home/ljcohen/msu_assemblies_finished/F_chrysot...    1.58271     NaN   \n",
       "/home/ljcohen/msu_assemblies_finished/F_diaphan...    1.63383     NaN   \n",
       "/home/ljcohen/msu_assemblies_finished/F_notti/F...    1.60211     NaN   \n",
       "/home/ljcohen/msu_assemblies_finished/F_similis...    1.67235     NaN   \n",
       "\n",
       "                                                      ...     p_cov50  \\\n",
       "/home/ljcohen/msu_assemblies_finished/F_sciadic...    ...     0.10434   \n",
       "/home/ljcohen/msu_assemblies_finished/F_chrysot...    ...     0.11512   \n",
       "/home/ljcohen/msu_assemblies_finished/F_diaphan...    ...     0.11788   \n",
       "/home/ljcohen/msu_assemblies_finished/F_notti/F...    ...     0.05557   \n",
       "/home/ljcohen/msu_assemblies_finished/F_similis...    ...     0.10231   \n",
       "\n",
       "                                                    p_cov75  p_cov85  p_cov95  \\\n",
       "/home/ljcohen/msu_assemblies_finished/F_sciadic...  0.06309  0.04742  0.03045   \n",
       "/home/ljcohen/msu_assemblies_finished/F_chrysot...  0.07136  0.05376  0.03561   \n",
       "/home/ljcohen/msu_assemblies_finished/F_diaphan...  0.06988  0.05349  0.03545   \n",
       "/home/ljcohen/msu_assemblies_finished/F_notti/F...  0.03323  0.02448  0.01598   \n",
       "/home/ljcohen/msu_assemblies_finished/F_similis...  0.06204  0.04618  0.02986   \n",
       "\n",
       "                                                    p_refs_with_CRBB  \\\n",
       "/home/ljcohen/msu_assemblies_finished/F_sciadic...           0.40657   \n",
       "/home/ljcohen/msu_assemblies_finished/F_chrysot...           0.42360   \n",
       "/home/ljcohen/msu_assemblies_finished/F_diaphan...           0.48774   \n",
       "/home/ljcohen/msu_assemblies_finished/F_notti/F...           0.22949   \n",
       "/home/ljcohen/msu_assemblies_finished/F_similis...           0.42877   \n",
       "\n",
       "                                                    proportion_n  \\\n",
       "/home/ljcohen/msu_assemblies_finished/F_sciadic...             0   \n",
       "/home/ljcohen/msu_assemblies_finished/F_chrysot...             0   \n",
       "/home/ljcohen/msu_assemblies_finished/F_diaphan...             0   \n",
       "/home/ljcohen/msu_assemblies_finished/F_notti/F...             0   \n",
       "/home/ljcohen/msu_assemblies_finished/F_similis...             0   \n",
       "\n",
       "                                                    rbh_per_reference  \\\n",
       "/home/ljcohen/msu_assemblies_finished/F_sciadic...            1.18467   \n",
       "/home/ljcohen/msu_assemblies_finished/F_chrysot...            1.25816   \n",
       "/home/ljcohen/msu_assemblies_finished/F_diaphan...            1.68233   \n",
       "/home/ljcohen/msu_assemblies_finished/F_notti/F...            0.44816   \n",
       "/home/ljcohen/msu_assemblies_finished/F_similis...            1.28053   \n",
       "\n",
       "                                                    reference_coverage  score  \\\n",
       "/home/ljcohen/msu_assemblies_finished/F_sciadic...             0.12068    NaN   \n",
       "/home/ljcohen/msu_assemblies_finished/F_chrysot...             0.13059    NaN   \n",
       "/home/ljcohen/msu_assemblies_finished/F_diaphan...             0.13775    NaN   \n",
       "/home/ljcohen/msu_assemblies_finished/F_notti/F...             0.06534    NaN   \n",
       "/home/ljcohen/msu_assemblies_finished/F_similis...             0.12048    NaN   \n",
       "\n",
       "                                                    smallest  \n",
       "/home/ljcohen/msu_assemblies_finished/F_sciadic...       224  \n",
       "/home/ljcohen/msu_assemblies_finished/F_chrysot...       224  \n",
       "/home/ljcohen/msu_assemblies_finished/F_diaphan...       224  \n",
       "/home/ljcohen/msu_assemblies_finished/F_notti/F...       224  \n",
       "/home/ljcohen/msu_assemblies_finished/F_similis...       224  \n",
       "\n",
       "[5 rows x 42 columns]"
      ]
     },
     "execution_count": 7,
     "metadata": {},
     "output_type": "execute_result"
    }
   ],
   "source": [
    "data_frame.head(n=5)"
   ]
  },
  {
   "cell_type": "code",
   "execution_count": 8,
   "metadata": {
    "collapsed": false
   },
   "outputs": [
    {
     "data": {
      "text/plain": [
       "<matplotlib.text.Text at 0x2b4023de6910>"
      ]
     },
     "execution_count": 8,
     "metadata": {},
     "output_type": "execute_result"
    },
    {
     "data": {
      "image/png": "[encoded data removed]",
      "text/plain": [
       "<matplotlib.figure.Figure at 0x2b3fd2ccd4d0>"
      ]
     },
     "metadata": {},
     "output_type": "display_data"
    }
   ],
   "source": [
    "p_refs_with_CRBB=pd.DataFrame.hist(data_frame,column=\"p_refs_with_CRBB\")\n",
    "pl.suptitle(\"assemblies_Kfishreference\")"
   ]
  },
  {
   "cell_type": "code",
   "execution_count": null,
   "metadata": {
    "collapsed": true
   },
   "outputs": [],
   "source": []
  }
 ],
 "metadata": {
  "kernelspec": {
   "display_name": "Python 2",
   "language": "python",
   "name": "python2"
  }
 },
 "nbformat": 4,
 "nbformat_minor": 0
}
